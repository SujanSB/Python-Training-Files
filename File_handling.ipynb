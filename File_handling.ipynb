{
 "cells": [
  {
   "cell_type": "markdown",
   "metadata": {},
   "source": [
    "# File Handling in Python\n",
    "\n",
    "File handling is a crucial aspect of Python programming that allows you to work with files on your system. Python provides built-in functions and methods to perform various file operations:\n",
    "\n",
    "## Basic File Operations\n",
    "- **Opening Files**: Use `open()` function with appropriate mode\n",
    "- **Reading Files**: Read entire file or line by line\n",
    "- **Writing Files**: Create new files or overwrite existing ones\n",
    "- **Appending Files**: Add content to existing files\n",
    "\n",
    "## Common File Modes\n",
    "- `'r'` - Read mode (default)\n",
    "- `'w'` - Write mode (overwrites existing content)\n",
    "- `'a'` - Append mode (adds to existing content)\n",
    "- `'r+'` - Read and write mode\n",
    "- `'b'` - Binary mode\n",
    "\n",
    "## Best Practices\n",
    "- Always use `with` statement to automatically close files\n",
    "- Handle exceptions when working with files\n",
    "- Use appropriate encoding when dealing with text files\n",
    "- Close files explicitly if not using `with` statement"
   ]
  },
  {
   "cell_type": "code",
   "execution_count": 20,
   "metadata": {},
   "outputs": [
    {
     "name": "stdout",
     "output_type": "stream",
     "text": [
      "Line: The Evolution of Our World\n",
      "Line: \n",
      "Line: Earth formed approximately 4.5 billion years ago from cosmic dust and gas.\n",
      "Line: Initially, it was a hostile environment with frequent volcanic activity and meteor impacts.\n",
      "Line: \n",
      "Line: Life emerged around 3.5 billion years ago, starting with simple single-celled organisms.\n",
      "Line: Through millions of years of evolution, these simple life forms developed into more complex organisms.\n",
      "Line: \n",
      "Line: Major evolutionary milestones:\n",
      "Line: - First bacteria and archaea\n",
      "Line: - Development of photosynthesis\n",
      "Line: - Emergence of multicellular organisms\n",
      "Line: - Cambrian explosion (rapid diversification of animal life)\n",
      "Line: - First land plants and animals\n",
      "Line: - Rise of dinosaurs\n",
      "Line: - Evolution of mammals\n",
      "Line: - Emergence of early humans\n",
      "Line: \n",
      "Line: Today, our world continues to evolve through both natural processes and human influence.\n",
      "Line: Climate change, technological advancement, and human activity shape the ongoing evolution of Earth's ecosystems and species.\n",
      "Line: \n",
      "Line: Appending this line\n"
     ]
    }
   ],
   "source": [
    "\n",
    "# with open('example_files/example.txt', 'r') as file:\n",
    "#     content = file.read()\n",
    "#     print(\"Reading entire file:\\n\",content)\n",
    "\n",
    "# # Writing to a file\n",
    "# with open('example_files/new_example.txt', 'w') as file:\n",
    "#     file.write(\"Hello, this is a new line\\n\")\n",
    "#     file.write(\"This is another line\")\n",
    "\n",
    "# Appending to a file\n",
    "# with open('example_files/example2.txt', 'a') as file:\n",
    "#     file.write(\"\\nAppending this line\")\n",
    "\n",
    "# Reading file line by line\n",
    "with open('example_files/example.txt', 'r') as file:\n",
    "    for line in file:\n",
    "        print(\"Line:\", line.strip())\n",
    "\n"
   ]
  },
  {
   "cell_type": "markdown",
   "metadata": {},
   "source": [
    "### Creating dummy json file"
   ]
  },
  {
   "cell_type": "code",
   "execution_count": null,
   "metadata": {},
   "outputs": [],
   "source": [
    "import json\n",
    "\n",
    "# Create student data with 10 elements\n",
    "students = [\n",
    "    {\n",
    "        \"student_id\": \"S001\",\n",
    "        \"name\": \"John Smith\",\n",
    "        \"address\": \"123 Oak Street, Springfield\",\n",
    "        \"phone_no\": \"555-0101\",\n",
    "        \"interest\": \"ai/ml\"\n",
    "    },\n",
    "    {\n",
    "        \"student_id\": \"S002\",\n",
    "        \"name\": \"Emma Watson\",\n",
    "        \"address\": None,  # First None value\n",
    "        \"phone_no\": \"555-0102\",\n",
    "        \"interest\": \"web dev\"\n",
    "    },\n",
    "    {\n",
    "        \"student_id\": \"S003\",\n",
    "        \"name\": \"Michael Chen\",\n",
    "        \"address\": \"789 Maple Ave, Riverside\",\n",
    "        \"phone_no\": \"555-0103\",\n",
    "        \"interest\": \"digital marketing\"\n",
    "    },\n",
    "    {\n",
    "        \"student_id\": \"S004\",\n",
    "        \"name\": \"Sarah Johnson\",\n",
    "        \"address\": \"456 Pine Road, Lakeside\",\n",
    "        \"phone_no\": \"555-0104\",\n",
    "        \"interest\": \"graphics design\"\n",
    "    },\n",
    "    {\n",
    "        \"student_id\": \"S005\",\n",
    "        \"name\": \"David Brown\",\n",
    "        \"address\": \"321 Elm Street, Hillside\",\n",
    "        \"phone_no\": None,  # Second None value\n",
    "        \"interest\": \"research\"\n",
    "    },\n",
    "    {\n",
    "        \"student_id\": \"S006\",\n",
    "        \"name\": \"Lisa Anderson\",\n",
    "        \"address\": \"654 Cedar Lane, Brookside\",\n",
    "        \"phone_no\": \"555-0106\",\n",
    "        \"interest\": \"ai/ml\"\n",
    "    },\n",
    "    {\n",
    "        \"student_id\": \"S007\",\n",
    "        \"name\": \"James Wilson\",\n",
    "        \"address\": \"987 Birch Road, Mountainview\",\n",
    "        \"phone_no\": \"555-0107\",\n",
    "        \"interest\": \"web dev\"\n",
    "    },\n",
    "    {\n",
    "        \"student_id\": \"S008\",\n",
    "        \"name\": \"Emily Davis\",\n",
    "        \"address\": \"147 Willow Street, Seaside\",\n",
    "        \"phone_no\": \"555-0108\",\n",
    "        \"interest\": \"research\"\n",
    "    },\n",
    "    {\n",
    "        \"student_id\": \"S009\",\n",
    "        \"name\": \"Robert Taylor\",\n",
    "        \"address\": \"258 Aspen Court, Valley\",\n",
    "        \"phone_no\": \"555-0109\",\n",
    "        \"interest\": \"digital marketing\"\n",
    "    },\n",
    "    {\n",
    "        \"student_id\": \"S010\",\n",
    "        \"name\": \"Maria Garcia\",\n",
    "        \"address\": \"369 Palm Drive, Desert\",\n",
    "        \"phone_no\": \"555-0110\",\n",
    "        \"interest\": \"graphics design\",\n",
    "        \n",
    "    }\n",
    "]\n",
    "\n",
    "# Write to JSON file\n",
    "with open('example_files/students.json', 'w') as json_file:\n",
    "    json.dump(students, json_file, indent=4) # This is stardard indent value, you can use other values too "
   ]
  },
  {
   "cell_type": "code",
   "execution_count": 22,
   "metadata": {},
   "outputs": [],
   "source": [
    "import random\n",
    "\n",
    "random.seed(42)\n",
    "\n",
    "# Add IQ scores between 90-140 for each student\n",
    "for student in students:\n",
    "    student['iq_score'] = random.randint(90, 140)\n",
    "\n",
    "# Write updated data back to JSON file \n",
    "with open('example_files/students.json', 'w') as json_file:\n",
    "    json.dump(students, json_file, indent=4)"
   ]
  },
  {
   "cell_type": "code",
   "execution_count": 23,
   "metadata": {},
   "outputs": [],
   "source": [
    "# Function to update student info\n",
    "def update_student(student_id, field, new_value):\n",
    "    for student in students:\n",
    "        if student['student_id'] == student_id:\n",
    "            student[field] = new_value\n",
    "            return True\n",
    "    return False\n",
    "\n",
    "update_student('S002', 'phone_no', '555-9999')\n",
    "\n",
    "with open('example_files/students.json', 'w') as json_file:\n",
    "    json.dump(students, json_file, indent=4)"
   ]
  },
  {
   "cell_type": "code",
   "execution_count": 24,
   "metadata": {},
   "outputs": [
    {
     "name": "stdout",
     "output_type": "stream",
     "text": [
      "Number of students with IQ > 100: 6\n",
      "\n",
      "Students with high IQ:\n",
      "Name: John Smith, IQ: 130\n",
      "Name: Sarah Johnson, IQ: 137\n",
      "Name: David Brown, IQ: 107\n",
      "Name: Lisa Anderson, IQ: 105\n",
      "Name: James Wilson, IQ: 104\n",
      "Name: Robert Taylor, IQ: 137\n"
     ]
    }
   ],
   "source": [
    "# Read the JSON file\n",
    "with open('example_files/students.json', 'r') as json_file:\n",
    "    data = json.load(json_file)\n",
    "high_iq_students = [student for student in data if student.get('iq_score', 0) > 100]\n",
    "print(f\"Number of students with IQ > 100: {len(high_iq_students)}\")\n",
    "print(\"\\nStudents with high IQ:\")\n",
    "for student in high_iq_students:\n",
    "    print(f\"Name: {student['name']}, IQ: {student['iq_score']}\")"
   ]
  },
  {
   "cell_type": "code",
   "execution_count": 1,
   "metadata": {},
   "outputs": [
    {
     "ename": "ModuleNotFoundError",
     "evalue": "No module named 'pandas'",
     "output_type": "error",
     "traceback": [
      "\u001b[0;31m---------------------------------------------------------------------------\u001b[0m",
      "\u001b[0;31mModuleNotFoundError\u001b[0m                       Traceback (most recent call last)",
      "Cell \u001b[0;32mIn[1], line 1\u001b[0m\n\u001b[0;32m----> 1\u001b[0m \u001b[38;5;28;01mimport\u001b[39;00m\u001b[38;5;250m \u001b[39m\u001b[38;5;21;01mpandas\u001b[39;00m\u001b[38;5;250m \u001b[39m\u001b[38;5;28;01mas\u001b[39;00m\u001b[38;5;250m \u001b[39m\u001b[38;5;21;01mpd\u001b[39;00m\n\u001b[1;32m      3\u001b[0m \u001b[38;5;66;03m# Convert the data (list of dictionaries) to a pandas DataFrame\u001b[39;00m\n\u001b[1;32m      4\u001b[0m df \u001b[38;5;241m=\u001b[39m pd\u001b[38;5;241m.\u001b[39mDataFrame(data)\n",
      "\u001b[0;31mModuleNotFoundError\u001b[0m: No module named 'pandas'"
     ]
    }
   ],
   "source": [
    "import pandas as pd\n",
    "\n",
    "# Convert the data (list of dictionaries) to a pandas DataFrame\n",
    "df = pd.DataFrame(data)\n",
    "\n",
    "# Save the DataFrame to a CSV file\n",
    "df.to_csv('example_files/students.csv', index=False)"
   ]
  },
  {
   "cell_type": "code",
   "execution_count": null,
   "metadata": {},
   "outputs": [],
   "source": []
  }
 ],
 "metadata": {
  "kernelspec": {
   "display_name": "venv",
   "language": "python",
   "name": "python3"
  },
  "language_info": {
   "codemirror_mode": {
    "name": "ipython",
    "version": 3
   },
   "file_extension": ".py",
   "mimetype": "text/x-python",
   "name": "python",
   "nbconvert_exporter": "python",
   "pygments_lexer": "ipython3",
   "version": "3.10.12"
  }
 },
 "nbformat": 4,
 "nbformat_minor": 2
}
