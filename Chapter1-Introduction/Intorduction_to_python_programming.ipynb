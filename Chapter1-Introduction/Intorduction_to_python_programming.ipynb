{
 "cells": [
  {
   "cell_type": "markdown",
   "metadata": {},
   "source": [
    "# Syntax"
   ]
  },
  {
   "cell_type": "code",
   "execution_count": 3,
   "metadata": {},
   "outputs": [
    {
     "name": "stdout",
     "output_type": "stream",
     "text": [
      "A is greater than B!\n"
     ]
    }
   ],
   "source": [
    "# indentation\n",
    "a = 30\n",
    "b = 20\n",
    "if a > b:\n",
    "    print(\"A is greater than B!\")\n",
    "else:\n",
    "    print(\"B is greater than A!\")"
   ]
  },
  {
   "cell_type": "code",
   "execution_count": 58,
   "metadata": {},
   "outputs": [
    {
     "name": "stdout",
     "output_type": "stream",
     "text": [
      "150000\n"
     ]
    }
   ],
   "source": [
    "# Case sensitive\n",
    "salary = 100000\n",
    "Salary = 150000\n",
    "SALARY = 200000\n",
    "print(Salary)"
   ]
  },
  {
   "cell_type": "code",
   "execution_count": 61,
   "metadata": {},
   "outputs": [
    {
     "name": "stdout",
     "output_type": "stream",
     "text": [
      "True\n"
     ]
    }
   ],
   "source": [
    "name = \"Prajwal\"\n",
    "Name = \"Prajwal\"\n",
    "NAME = \"Prajwal\"\n",
    "print(name == Name == NAME)"
   ]
  },
  {
   "cell_type": "code",
   "execution_count": 59,
   "metadata": {},
   "outputs": [
    {
     "data": {
      "text/plain": [
       "False"
      ]
     },
     "execution_count": 59,
     "metadata": {},
     "output_type": "execute_result"
    }
   ],
   "source": [
    "salary == Salary"
   ]
  },
  {
   "cell_type": "code",
   "execution_count": 13,
   "metadata": {},
   "outputs": [
    {
     "data": {
      "text/plain": [
       "'\\nthis is also a multiline comment\\n'"
      ]
     },
     "execution_count": 13,
     "metadata": {},
     "output_type": "execute_result"
    }
   ],
   "source": [
    "# Comments\n",
    "\n",
    "# this is a comment\n",
    "\n",
    "'''\n",
    "this is multiline comment\n",
    "'''\n",
    "\n",
    "\"\"\"\n",
    "this is also a multiline comment\n",
    "\"\"\""
   ]
  },
  {
   "cell_type": "code",
   "execution_count": 14,
   "metadata": {},
   "outputs": [
    {
     "name": "stdout",
     "output_type": "stream",
     "text": [
      "John Doe\n"
     ]
    }
   ],
   "source": [
    "# Statement\n",
    "\n",
    "first_name = \"John\"\n",
    "last_name = \"Doe\"\n",
    "print(first_name + \" \" + last_name)"
   ]
  },
  {
   "cell_type": "code",
   "execution_count": 16,
   "metadata": {},
   "outputs": [
    {
     "name": "stdout",
     "output_type": "stream",
     "text": [
      "John Doe\n"
     ]
    }
   ],
   "source": [
    "first_name = \"John\"; last_name = \"Doe\"; print(first_name + \" \" + last_name)\n",
    "# this is not recommended"
   ]
  },
  {
   "cell_type": "code",
   "execution_count": 20,
   "metadata": {},
   "outputs": [
    {
     "name": "stdout",
     "output_type": "stream",
     "text": [
      "Hello, \n"
     ]
    }
   ],
   "source": [
    "# input from user\n",
    "name = input(\"Enter your name: \")\n",
    "# printing output\n",
    "print(\"Hello, \" + name)"
   ]
  },
  {
   "cell_type": "code",
   "execution_count": 12,
   "metadata": {},
   "outputs": [
    {
     "name": "stdout",
     "output_type": "stream",
     "text": [
      "4\n"
     ]
    }
   ],
   "source": [
    "value = int(input(\"Enter your value: \"))\n",
    "print(value)"
   ]
  },
  {
   "cell_type": "markdown",
   "metadata": {},
   "source": [
    "### Keywords and Identifiers"
   ]
  },
  {
   "cell_type": "code",
   "execution_count": 5,
   "metadata": {},
   "outputs": [
    {
     "name": "stdout",
     "output_type": "stream",
     "text": [
      "['False', 'None', 'True', 'and', 'as', 'assert', 'async', 'await', 'break', 'class', 'continue', 'def', 'del', 'elif', 'else', 'except', 'finally', 'for', 'from', 'global', 'if', 'import', 'in', 'is', 'lambda', 'nonlocal', 'not', 'or', 'pass', 'raise', 'return', 'try', 'while', 'with', 'yield']\n"
     ]
    }
   ],
   "source": [
    "import keyword\n",
    "print(keyword.kwlist)"
   ]
  },
  {
   "cell_type": "code",
   "execution_count": 6,
   "metadata": {},
   "outputs": [],
   "source": [
    "# idenfer is a name given to entities like class, functions, variables etc."
   ]
  },
  {
   "cell_type": "markdown",
   "metadata": {},
   "source": [
    "# Variable\n",
    "In python we have dynamic typing, you dont have to specify the variable's data type. \n",
    "\n",
    "( A variable is a specific type of identifier that holds a value.)"
   ]
  },
  {
   "cell_type": "code",
   "execution_count": 21,
   "metadata": {},
   "outputs": [],
   "source": [
    "# Numeric values\n",
    "x = 3\n",
    "y = 5\n",
    "z = x + y"
   ]
  },
  {
   "cell_type": "code",
   "execution_count": 63,
   "metadata": {},
   "outputs": [
    {
     "name": "stdout",
     "output_type": "stream",
     "text": [
      "ABC College, XYZ Street, Lalitpur\n"
     ]
    }
   ],
   "source": [
    "# string values\n",
    "college_name = \"ABC College\"\n",
    "address = \"XYZ Street, Lalitpur\"\n",
    "college = college_name + \", \" + address\n",
    "print(college)"
   ]
  },
  {
   "cell_type": "code",
   "execution_count": 1,
   "metadata": {},
   "outputs": [
    {
     "name": "stdout",
     "output_type": "stream",
     "text": [
      "Computer Science\n",
      "Physics\n"
     ]
    }
   ],
   "source": [
    "# Dymanic Binding : Changing the value of variable\n",
    "subject = \"Computer Science\"\n",
    "print(subject)\n",
    "subject = \"Physics\"\n",
    "print(subject)"
   ]
  },
  {
   "cell_type": "code",
   "execution_count": 31,
   "metadata": {},
   "outputs": [
    {
     "name": "stdout",
     "output_type": "stream",
     "text": [
      "coke\n",
      "fanta\n",
      "sprite\n"
     ]
    }
   ],
   "source": [
    "a,b,c = \"coke\", \"fanta\", \"sprite\"\n",
    "print(a)\n",
    "print(b)\n",
    "print(c)"
   ]
  },
  {
   "cell_type": "code",
   "execution_count": 29,
   "metadata": {},
   "outputs": [
    {
     "name": "stdout",
     "output_type": "stream",
     "text": [
      "soda\n",
      "soda\n",
      "soda\n"
     ]
    }
   ],
   "source": [
    "p = q = r = \"soda\"\n",
    "print(p)\n",
    "print(q)\n",
    "print(r)"
   ]
  },
  {
   "cell_type": "code",
   "execution_count": 33,
   "metadata": {},
   "outputs": [
    {
     "name": "stdout",
     "output_type": "stream",
     "text": [
      "Hello6\n"
     ]
    }
   ],
   "source": [
    "#variable name \n",
    "first_var = \"Hello1\"\n",
    "firstVar = \"Hello2\"\n",
    "firstvar = \"Hello3\"\n",
    "FIRST_VAR = \"Hello4\"\n",
    "first_Var = \"Hello5\"\n",
    "_first_var = \"Hello6\"\n",
    "\n",
    "print(_first_var)"
   ]
  },
  {
   "cell_type": "code",
   "execution_count": 34,
   "metadata": {},
   "outputs": [
    {
     "ename": "SyntaxError",
     "evalue": "invalid decimal literal (3681770041.py, line 1)",
     "output_type": "error",
     "traceback": [
      "\u001b[0;36m  Cell \u001b[0;32mIn[34], line 1\u001b[0;36m\u001b[0m\n\u001b[0;31m    5first_var = \"Hello7\" # invalid variable name\u001b[0m\n\u001b[0m    ^\u001b[0m\n\u001b[0;31mSyntaxError\u001b[0m\u001b[0;31m:\u001b[0m invalid decimal literal\n"
     ]
    }
   ],
   "source": [
    "5first_var = \"Hello7\" # invalid variable name"
   ]
  },
  {
   "cell_type": "code",
   "execution_count": 34,
   "metadata": {},
   "outputs": [],
   "source": [
    "#Constants ( Try to use all uppercase letters)\n",
    "PI = 3.14159\n"
   ]
  },
  {
   "cell_type": "markdown",
   "metadata": {},
   "source": [
    "# Data Type"
   ]
  },
  {
   "cell_type": "code",
   "execution_count": 39,
   "metadata": {},
   "outputs": [
    {
     "name": "stdout",
     "output_type": "stream",
     "text": [
      "Data type of num1 is <class 'int'>\n",
      "Data type of num2 is <class 'float'>\n",
      "Data type of num3 is <class 'complex'>\n"
     ]
    }
   ],
   "source": [
    "# Numeric Data types\n",
    "\n",
    "num1 = 5\n",
    "num2 = 3.14\n",
    "num3 = 5j+2\n",
    "\n",
    "print(\"Data type of num1 is\", type(num1))\n",
    "print(\"Data type of num2 is\", type(num2))\n",
    "print(\"Data type of num3 is\", type(num3))"
   ]
  },
  {
   "cell_type": "code",
   "execution_count": 41,
   "metadata": {},
   "outputs": [
    {
     "name": "stdout",
     "output_type": "stream",
     "text": [
      "Data type of name is <class 'str'>\n"
     ]
    }
   ],
   "source": [
    "# string data type\n",
    "\n",
    "name = \"John Doe\"\n",
    "\n",
    "print(\"Data type of name is\", type(name))\n"
   ]
  },
  {
   "cell_type": "code",
   "execution_count": 67,
   "metadata": {},
   "outputs": [
    {
     "name": "stdout",
     "output_type": "stream",
     "text": [
      "Data type of value is <class 'int'>\n"
     ]
    }
   ],
   "source": [
    "\n",
    "value = 5\n",
    "\n",
    "print(\"Data type of value is\", type(value))"
   ]
  },
  {
   "cell_type": "code",
   "execution_count": 43,
   "metadata": {},
   "outputs": [
    {
     "name": "stdout",
     "output_type": "stream",
     "text": [
      "Artificial Intelligence\n",
      "Machine Learning\n",
      "Artificial Intelligence concatenated with Machine Learning\n",
      "Artificial Intelligence concated with Machine Learning\n"
     ]
    }
   ],
   "source": [
    "a = \"Artificial Intelligence\"\n",
    "b= 'Machine Learning'\n",
    "print(a)\n",
    "print(b)\n",
    "\n",
    "# using ',' to concatenate the two or more strings\n",
    "print(a,\"concatenated with\",b)\n",
    "\n",
    "#using '+' to concate the two or more strings\n",
    "print(a+\" concated with \"+b)"
   ]
  },
  {
   "cell_type": "code",
   "execution_count": 40,
   "metadata": {},
   "outputs": [
    {
     "name": "stdout",
     "output_type": "stream",
     "text": [
      "Data type of programing_language is <class 'list'>\n"
     ]
    }
   ],
   "source": [
    "# List Data type\n",
    "programing_language = [\"Python\", \"Java\", \"C++\", \"C#\"]\n",
    "print(\"Data type of programing_language is\", type(programing_language))"
   ]
  },
  {
   "cell_type": "code",
   "execution_count": 44,
   "metadata": {},
   "outputs": [
    {
     "data": {
      "text/plain": [
       "'Python'"
      ]
     },
     "execution_count": 44,
     "metadata": {},
     "output_type": "execute_result"
    }
   ],
   "source": [
    "programing_language[0]"
   ]
  },
  {
   "cell_type": "code",
   "execution_count": 57,
   "metadata": {},
   "outputs": [
    {
     "name": "stdout",
     "output_type": "stream",
     "text": [
      "Data type of x is <class 'range'>\n"
     ]
    }
   ],
   "source": [
    "#range data type\n",
    "x = range(5)\n",
    "print(\"Data type of x is\", type(x))"
   ]
  },
  {
   "cell_type": "code",
   "execution_count": 46,
   "metadata": {},
   "outputs": [
    {
     "name": "stdout",
     "output_type": "stream",
     "text": [
      "Data type of fruits is <class 'tuple'>\n",
      "Apple\n"
     ]
    }
   ],
   "source": [
    "# Tuple Data type\n",
    "fruits = (\"Apple\", \"Banana\", \"Cherry\", \"Date\")\n",
    "print(\"Data type of fruits is\", type(fruits))\n",
    "print(fruits[0])"
   ]
  },
  {
   "cell_type": "code",
   "execution_count": 49,
   "metadata": {},
   "outputs": [
    {
     "name": "stdout",
     "output_type": "stream",
     "text": [
      "Data type of colors is <class 'set'>\n"
     ]
    }
   ],
   "source": [
    "# Set Data type\n",
    "colors = {\"Red\", \"Green\", \"Blue\", \"Yellow\"}\n",
    "print(\"Data type of colors is\", type(colors))\n",
    "# colors[0] # set does not support indexing"
   ]
  },
  {
   "cell_type": "code",
   "execution_count": 52,
   "metadata": {},
   "outputs": [
    {
     "name": "stdout",
     "output_type": "stream",
     "text": [
      "Data type of person is <class 'dict'>\n",
      "Kathmandu\n"
     ]
    }
   ],
   "source": [
    "# Dictionary Data type\n",
    "person = {\n",
    "    \"name\": \"John Doe\",\n",
    "    'age': 30,\n",
    "    'address': \"Kathmandu\"}\n",
    "print(\"Data type of person is\", type(person))\n",
    "print(person['address'])"
   ]
  },
  {
   "cell_type": "code",
   "execution_count": 54,
   "metadata": {},
   "outputs": [
    {
     "name": "stdout",
     "output_type": "stream",
     "text": [
      "Data type of x is <class 'bool'>\n"
     ]
    }
   ],
   "source": [
    "#boolean data type\n",
    "x = True\n",
    "print(\"Data type of x is\", type(x))"
   ]
  },
  {
   "cell_type": "markdown",
   "metadata": {},
   "source": [
    "### Lets understand the fundamental a bit more deeply"
   ]
  },
  {
   "cell_type": "code",
   "execution_count": 75,
   "metadata": {},
   "outputs": [
    {
     "name": "stdout",
     "output_type": "stream",
     "text": [
      "False\n"
     ]
    }
   ],
   "source": [
    "a = \"5\"\n",
    "b = 5\n",
    "print(a == b) # unlike other programming languages, python automatically checks value eauality "
   ]
  },
  {
   "cell_type": "code",
   "execution_count": 77,
   "metadata": {},
   "outputs": [
    {
     "name": "stdout",
     "output_type": "stream",
     "text": [
      "<class 'str'>\n",
      "3\n",
      "<class 'int'>\n",
      "3.0\n",
      "<class 'float'>\n"
     ]
    }
   ],
   "source": [
    "# Type Conversion\n",
    "a = \"3.14\"\n",
    "# b = int(a)\n",
    "# If you want to convert the floating-point string '3.14' into an integer, you should first convert it to a float and then to an integer.\n",
    "b = int(float(a))\n",
    "c = float(b)\n",
    "\n",
    "print(type(a))\n",
    "print(b)\n",
    "print(type(b))\n",
    "print(c)\n",
    "print(type(c))"
   ]
  },
  {
   "cell_type": "markdown",
   "metadata": {},
   "source": [
    "##### Mutable Vs Immutable"
   ]
  },
  {
   "cell_type": "code",
   "execution_count": 78,
   "metadata": {},
   "outputs": [
    {
     "name": "stdout",
     "output_type": "stream",
     "text": [
      "[10, 2, 3, 4]\n"
     ]
    }
   ],
   "source": [
    "# List is mutable\n",
    "my_list = [1, 2, 3]\n",
    "my_list[0] = 10  \n",
    "\n",
    "my_list.append(4)\n",
    "\n",
    "print(my_list)  "
   ]
  },
  {
   "cell_type": "code",
   "execution_count": 25,
   "metadata": {},
   "outputs": [
    {
     "ename": "TypeError",
     "evalue": "'tuple' object does not support item assignment",
     "output_type": "error",
     "traceback": [
      "\u001b[0;31m---------------------------------------------------------------------------\u001b[0m",
      "\u001b[0;31mTypeError\u001b[0m                                 Traceback (most recent call last)",
      "Cell \u001b[0;32mIn[25], line 2\u001b[0m\n\u001b[1;32m      1\u001b[0m my_tuple \u001b[38;5;241m=\u001b[39m (\u001b[38;5;241m1\u001b[39m, \u001b[38;5;241m2\u001b[39m, \u001b[38;5;241m3\u001b[39m)\n\u001b[0;32m----> 2\u001b[0m \u001b[43mmy_tuple\u001b[49m\u001b[43m[\u001b[49m\u001b[38;5;241;43m0\u001b[39;49m\u001b[43m]\u001b[49m \u001b[38;5;241m=\u001b[39m \u001b[38;5;241m10\u001b[39m\n",
      "\u001b[0;31mTypeError\u001b[0m: 'tuple' object does not support item assignment"
     ]
    }
   ],
   "source": [
    "# Tuple is immutable\n",
    "my_tuple = (1, 2, 3)\n",
    "my_tuple[0] = 10"
   ]
  },
  {
   "cell_type": "code",
   "execution_count": 26,
   "metadata": {},
   "outputs": [
    {
     "name": "stdout",
     "output_type": "stream",
     "text": [
      "{1, 2, 3, 4}\n"
     ]
    }
   ],
   "source": [
    "#set is mutable\n",
    "my_set = {1, 2, 3}\n",
    "my_set.add(4)\n",
    "print(my_set)"
   ]
  },
  {
   "cell_type": "code",
   "execution_count": 28,
   "metadata": {},
   "outputs": [
    {
     "name": "stdout",
     "output_type": "stream",
     "text": [
      "{'name': 'Alex Doe', 'age': 30}\n"
     ]
    }
   ],
   "source": [
    "# Dictionary is mutable\n",
    "my_dict = {\"name\": \"John Doe\", \"age\": 30}\n",
    "my_dict[\"name\"] = \"Alex Doe\"\n",
    "print(my_dict)\n"
   ]
  },
  {
   "cell_type": "code",
   "execution_count": 79,
   "metadata": {},
   "outputs": [
    {
     "ename": "TypeError",
     "evalue": "'str' object does not support item assignment",
     "output_type": "error",
     "traceback": [
      "\u001b[0;31m---------------------------------------------------------------------------\u001b[0m",
      "\u001b[0;31mTypeError\u001b[0m                                 Traceback (most recent call last)",
      "Cell \u001b[0;32mIn[79], line 3\u001b[0m\n\u001b[1;32m      1\u001b[0m \u001b[38;5;66;03m# strig is immutable\u001b[39;00m\n\u001b[1;32m      2\u001b[0m my_string \u001b[38;5;241m=\u001b[39m \u001b[38;5;124m\"\u001b[39m\u001b[38;5;124mPython\u001b[39m\u001b[38;5;124m\"\u001b[39m\n\u001b[0;32m----> 3\u001b[0m \u001b[43mmy_string\u001b[49m\u001b[43m[\u001b[49m\u001b[38;5;241;43m0\u001b[39;49m\u001b[43m]\u001b[49m \u001b[38;5;241m=\u001b[39m \u001b[38;5;124m\"\u001b[39m\u001b[38;5;124mJ\u001b[39m\u001b[38;5;124m\"\u001b[39m\n",
      "\u001b[0;31mTypeError\u001b[0m: 'str' object does not support item assignment"
     ]
    }
   ],
   "source": [
    "# strig is immutable\n",
    "my_string = \"Python\"\n",
    "my_string[0] = \"J\""
   ]
  },
  {
   "cell_type": "code",
   "execution_count": 30,
   "metadata": {},
   "outputs": [
    {
     "name": "stdout",
     "output_type": "stream",
     "text": [
      "Jython\n"
     ]
    }
   ],
   "source": [
    "# Howeer, you can concatenate strings to create a new string\n",
    "my_string = \"Python\"\n",
    "new_string = \"J\" + my_string[1:]\n",
    "print(new_string)"
   ]
  },
  {
   "cell_type": "code",
   "execution_count": 85,
   "metadata": {},
   "outputs": [
    {
     "name": "stdout",
     "output_type": "stream",
     "text": [
      "[100, 10, 15, 20]\n",
      "[100, 10, 15, 20, 25]\n",
      "[100, 10, 8, 15, 20, 25]\n",
      "[100, 10, 8, 15, 25]\n",
      "[100, 8, 15, 25]\n",
      "[100, 8, 15, 25, 6, 7, 6, 7]\n"
     ]
    }
   ],
   "source": [
    "my_list = [5, 10, 15, 20]\n",
    "my_list[0] = 100\n",
    "print(my_list)\n",
    "my_list.append(25)\n",
    "print(my_list)\n",
    "my_list.insert(2, 8)  \n",
    "print(my_list)\n",
    "my_list.remove(20)  \n",
    "print(my_list)\n",
    "my_list.pop(1)\n",
    "print(my_list)\n",
    "my_list.extend([6, 7])\n",
    "my_list.extend([6, 7])\n",
    "print(my_list)\n",
    "# my_list.clear()\n",
    "# print(my_list)\n"
   ]
  },
  {
   "cell_type": "code",
   "execution_count": 89,
   "metadata": {},
   "outputs": [
    {
     "name": "stdout",
     "output_type": "stream",
     "text": [
      "[6, 6, 7, 7, 8, 15, 25, 100]\n"
     ]
    }
   ],
   "source": [
    "my_list.count(7) \n",
    "my_list.index(6) \n",
    "my_list.sort() \n",
    "# # my_list.sort(reverse=True) \n",
    "print(my_list)\n"
   ]
  },
  {
   "cell_type": "markdown",
   "metadata": {},
   "source": [
    "# **H1**\n",
    "## H2\n",
    "### H3\n",
    "#### H4\n",
    "##### H5\n",
    "###### H6"
   ]
  },
  {
   "cell_type": "markdown",
   "metadata": {},
   "source": [
    "#### List comprehension"
   ]
  },
  {
   "cell_type": "code",
   "execution_count": 70,
   "metadata": {},
   "outputs": [
    {
     "data": {
      "text/plain": [
       "[10000, 625, 225, 64, 49, 36]"
      ]
     },
     "execution_count": 70,
     "metadata": {},
     "output_type": "execute_result"
    }
   ],
   "source": [
    "my_squared_list = [x**2 for x in my_list] \n",
    "my_squared_list"
   ]
  },
  {
   "cell_type": "code",
   "execution_count": 1,
   "metadata": {},
   "outputs": [
    {
     "name": "stdout",
     "output_type": "stream",
     "text": [
      "[(1, 4), (1, 5), (1, 6), (2, 4), (2, 5), (2, 6), (3, 4), (3, 5), (3, 6)]\n"
     ]
    }
   ],
   "source": [
    "pairs = [(i, j) for i in range(1, 4) for j in range(4, 7)]\n",
    "print(pairs)  \n",
    "# Output: [(1, 4), (1, 5), (1, 6), (2, 4), (2, 5), (2, 6), (3, 4), (3, 5), (3, 6)]\n"
   ]
  },
  {
   "cell_type": "code",
   "execution_count": 2,
   "metadata": {},
   "outputs": [
    {
     "name": "stdout",
     "output_type": "stream",
     "text": [
      "[1, 2, 3, 4, 5, 6, 7, 8, 9]\n"
     ]
    }
   ],
   "source": [
    "matrix = [[1, 2, 3], [4, 5], [6, 7, 8, 9]]\n",
    "flattened = [item for row in matrix for item in row]\n",
    "print(flattened)  \n",
    "# Output: [1, 2, 3, 4, 5, 6, 7, 8, 9]\n"
   ]
  },
  {
   "cell_type": "code",
   "execution_count": 71,
   "metadata": {},
   "outputs": [],
   "source": [
    "# Similar for to sets"
   ]
  },
  {
   "cell_type": "code",
   "execution_count": 3,
   "metadata": {},
   "outputs": [
    {
     "name": "stdout",
     "output_type": "stream",
     "text": [
      "{0, 1, 2}\n"
     ]
    }
   ],
   "source": [
    "numbers = [1, 2, 3, 4, 5, 6, 7, 8, 9]\n",
    "remainders = {x % 3 for x in numbers}\n",
    "print(remainders)  \n",
    "# Output: {0, 1, 2}\n"
   ]
  },
  {
   "cell_type": "code",
   "execution_count": 4,
   "metadata": {},
   "outputs": [
    {
     "name": "stdout",
     "output_type": "stream",
     "text": [
      "{1: 'a', 2: 'b', 3: 'c'}\n"
     ]
    }
   ],
   "source": [
    "original = {'a': 1, 'b': 2, 'c': 3}\n",
    "swapped = {value: key for key, value in original.items()}\n",
    "print(swapped)  \n",
    "# Output: {1: 'a', 2: 'b', 3: 'c'}\n"
   ]
  },
  {
   "cell_type": "code",
   "execution_count": 6,
   "metadata": {},
   "outputs": [
    {
     "name": "stdout",
     "output_type": "stream",
     "text": [
      "Unique words: {'powerful', 'fun', 'is', 'python', 'and'}\n"
     ]
    }
   ],
   "source": [
    "# code to find unique words\n",
    "sentence = \"Python is fun and Python is powerful\"\n",
    "unique_words = {word.lower() for word in sentence.split()}\n",
    "print(\"Unique words:\", unique_words)\n"
   ]
  },
  {
   "cell_type": "code",
   "execution_count": null,
   "metadata": {},
   "outputs": [],
   "source": []
  }
 ],
 "metadata": {
  "kernelspec": {
   "display_name": "venv",
   "language": "python",
   "name": "python3"
  },
  "language_info": {
   "codemirror_mode": {
    "name": "ipython",
    "version": 3
   },
   "file_extension": ".py",
   "mimetype": "text/x-python",
   "name": "python",
   "nbconvert_exporter": "python",
   "pygments_lexer": "ipython3",
   "version": "3.10.12"
  }
 },
 "nbformat": 4,
 "nbformat_minor": 2
}
