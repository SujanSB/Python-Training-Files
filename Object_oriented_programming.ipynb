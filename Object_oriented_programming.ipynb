{
 "cells": [
  {
   "cell_type": "markdown",
   "metadata": {},
   "source": [
    "### Object-Oriented Programming (OOP) in Python"
   ]
  },
  {
   "cell_type": "markdown",
   "metadata": {},
   "source": [
    "Object-Oriented Programming (OOP) is a programming paradigm that organizes code into objects, which bundle data (attributes) and behavior (methods) together. Python supports OOP principles like encapsulation, inheritance, and polymorphism, making it a powerful tool for building modular and reusable code."
   ]
  },
  {
   "cell_type": "markdown",
   "metadata": {},
   "source": [
    "## Lets first learn Built-in classes ( str and int)"
   ]
  },
  {
   "cell_type": "markdown",
   "metadata": {},
   "source": [
    "## `str` Class\n",
    "\n",
    "The str class represents a sequence of characters and provides various methods for string manipulation."
   ]
  },
  {
   "cell_type": "code",
   "execution_count": 52,
   "metadata": {},
   "outputs": [
    {
     "name": "stdout",
     "output_type": "stream",
     "text": [
      "<class 'str'>\n",
      "HELLO, WORLD!     \n",
      "hello, world!     \n",
      "Hello, Python!     \n",
      "['Hello', ' World!     ']\n",
      "Hello, World!\n"
     ]
    }
   ],
   "source": [
    "s = \"Hello, World!     \"\n",
    "print(type(s))\n",
    "print(s.upper())\n",
    "print(s.lower())\n",
    "print(s.replace(\"World\", \"Python\"))\n",
    "print(s.split(\",\"))\n",
    "print(s.strip())\n"
   ]
  },
  {
   "cell_type": "code",
   "execution_count": 65,
   "metadata": {},
   "outputs": [
    {
     "name": "stdout",
     "output_type": "stream",
     "text": [
      "0\n",
      "28\n",
      "30\n",
      "82\n",
      "0\n"
     ]
    }
   ],
   "source": [
    "new_paragraph = \"\"\"\n",
    "        Hello good morning, \n",
    "        this is sujan sharma, \n",
    "        presenting you chapter three from the python programming upskill program. \n",
    "\"\"\"\n",
    "\n",
    "# print(new_paragraph)\n",
    "# new_paragraph = new_paragraph.strip()\n",
    "# print(new_paragraph)\n",
    "new_paragraph = new_paragraph.split(\"\\n\")\n",
    "\n",
    "for each_sentence_word  in new_paragraph:\n",
    "    # print(len(each_sentence_word))\n",
    "    stripped_sentence_word = each_sentence_word.strip()\n",
    "    print(len(each_sentence_word))\n",
    "    # print(stripped_sentence_word)\n",
    "\n",
    "# print(new_paragraph)"
   ]
  },
  {
   "cell_type": "markdown",
   "metadata": {},
   "source": [
    "## `int` Class\n",
    "\n",
    "The int class represents integers and provides mathematical operations."
   ]
  },
  {
   "cell_type": "code",
   "execution_count": 38,
   "metadata": {},
   "outputs": [
    {
     "name": "stdout",
     "output_type": "stream",
     "text": [
      "4\n",
      "15\n",
      "100\n"
     ]
    }
   ],
   "source": [
    "x = 10\n",
    "print(x.bit_length())\n",
    "print(x.__add__(5))\n",
    "print(int(\"100\"))\n"
   ]
  },
  {
   "cell_type": "code",
   "execution_count": 70,
   "metadata": {},
   "outputs": [],
   "source": [
    "# help(str)\n",
    "# help(int)"
   ]
  },
  {
   "cell_type": "code",
   "execution_count": 71,
   "metadata": {},
   "outputs": [
    {
     "name": "stdout",
     "output_type": "stream",
     "text": [
      "Car: Toyota X-674\n"
     ]
    }
   ],
   "source": [
    "## General class\n",
    "class Car:\n",
    "    def __init__(self, brand, model):  # Constructor\n",
    "        self.brand = brand\n",
    "        self.model = model\n",
    "    # this class is with single method\n",
    "    def display_info(self):\n",
    "        print(f\"Car: {self.brand} {self.model}\")\n",
    "\n",
    "# Creating an object\n",
    "car1 = Car(\"Toyota\", \"X-674\")\n",
    "car1.display_info()  \n",
    "\n"
   ]
  },
  {
   "cell_type": "code",
   "execution_count": 40,
   "metadata": {},
   "outputs": [
    {
     "name": "stdout",
     "output_type": "stream",
     "text": [
      "8\n",
      "15\n"
     ]
    }
   ],
   "source": [
    "# class with multiple methods\n",
    "\n",
    "class Calculator:\n",
    "    def add(self, a, b):\n",
    "        return a + b\n",
    "\n",
    "    def multiply(self, a, b):\n",
    "        return a * b\n",
    "\n",
    "calc = Calculator()\n",
    "print(calc.add(3, 5))  \n",
    "print(calc.multiply(3, 5))  \n"
   ]
  },
  {
   "cell_type": "markdown",
   "metadata": {},
   "source": [
    "### Extending One Class to Another (Inheritance)"
   ]
  },
  {
   "cell_type": "code",
   "execution_count": 41,
   "metadata": {},
   "outputs": [
    {
     "name": "stdout",
     "output_type": "stream",
     "text": [
      "Bark!\n",
      "Base Animal method can be called from Dog:\n",
      "Bark!\n",
      "\n",
      "Inheritance check:\n",
      "Is Dog a subclass of Animal? True\n",
      "Is d an instance of Dog? True\n",
      "Is d an instance of Animal? True\n",
      "------------------------------\n",
      "Is Cat a subclass of Animal? False\n",
      "Is c an instance of Animal? False\n"
     ]
    }
   ],
   "source": [
    "class Animal:\n",
    "    def make_sound(self):\n",
    "        print(\"Some generic sound\")\n",
    "\n",
    "class Dog(Animal):  # Dog inherits from Animal\n",
    "    def make_sound(self):\n",
    "        print(\"Bark!\")\n",
    "\n",
    "d = Dog()\n",
    "d.make_sound()  \n",
    "\n",
    "\n",
    "print(\"Base Animal method can be called from Dog:\")\n",
    "d.make_sound()  # Shows inherited method\n",
    "\n",
    "# Check inheritance relationship\n",
    "print(\"\\nInheritance check:\")\n",
    "print(f\"Is Dog a subclass of Animal? {issubclass(Dog, Animal)}\")\n",
    "print(f\"Is d an instance of Dog? {isinstance(d, Dog)}\")\n",
    "print(f\"Is d an instance of Animal? {isinstance(d, Animal)}\")  \n",
    "print(\"-\"*30)\n",
    "\n",
    "class Cat:\n",
    "    def make_sound(self):\n",
    "        print(\"Meow!\")\n",
    "\n",
    "c = Cat()\n",
    "print(f\"Is Cat a subclass of Animal? {issubclass(Cat, Animal)}\")  \n",
    "print(f\"Is c an instance of Animal? {isinstance(c, Animal)}\")  \n"
   ]
  },
  {
   "cell_type": "markdown",
   "metadata": {},
   "source": [
    "### Variable scope in classes"
   ]
  },
  {
   "cell_type": "code",
   "execution_count": 42,
   "metadata": {},
   "outputs": [
    {
     "name": "stdout",
     "output_type": "stream",
     "text": [
      "Prajwal\n"
     ]
    }
   ],
   "source": [
    "# Variable defined in self\n",
    "class Person:\n",
    "    def __init__(self, name):\n",
    "        self.name = name \n",
    "\n",
    "p = Person(\"Prajwal\")\n",
    "print(p.name) "
   ]
  },
  {
   "cell_type": "code",
   "execution_count": 43,
   "metadata": {},
   "outputs": [
    {
     "name": "stdout",
     "output_type": "stream",
     "text": [
      "2\n"
     ]
    }
   ],
   "source": [
    "# Variable defined and shared across all instances\n",
    "class Counter:\n",
    "    count = 0  \n",
    "\n",
    "    def __init__(self):\n",
    "        Counter.count += 1\n",
    "\n",
    "c1 = Counter()\n",
    "c2 = Counter()\n",
    "print(Counter.count)  \n",
    "\n"
   ]
  },
  {
   "cell_type": "markdown",
   "metadata": {},
   "source": [
    "### Method overloading "
   ]
  },
  {
   "cell_type": "code",
   "execution_count": 44,
   "metadata": {},
   "outputs": [
    {
     "name": "stdout",
     "output_type": "stream",
     "text": [
      "0\n",
      "5\n",
      "5\n",
      "6\n"
     ]
    }
   ],
   "source": [
    "class MathOperations:\n",
    "    # This single method handles multiple argument patterns (overloading):\n",
    "    # - No arguments: returns 0\n",
    "    # - One argument: returns that argument\n",
    "    # - Multiple arguments: returns their sum\n",
    "    def add(self, *args):\n",
    "        if len(args) == 0:\n",
    "            return 0\n",
    "        elif len(args) == 1:\n",
    "            return args[0]\n",
    "        else:\n",
    "            return sum(args)\n",
    "\n",
    "math = MathOperations()\n",
    "\n",
    "# Different ways to call the same method (overloaded):\n",
    "print(math.add())          # Calling with no arguments\n",
    "print(math.add(5))         # Calling with one argument\n",
    "print(math.add(2, 3))      # Calling with two arguments\n",
    "print(math.add(1, 2, 3))   # Calling with three arguments\n"
   ]
  },
  {
   "cell_type": "markdown",
   "metadata": {},
   "source": [
    "#### Method overriding"
   ]
  },
  {
   "cell_type": "code",
   "execution_count": 45,
   "metadata": {},
   "outputs": [
    {
     "name": "stdout",
     "output_type": "stream",
     "text": [
      "Vehicle is starting\n",
      "Car is starting with ignition\n"
     ]
    }
   ],
   "source": [
    "class Vehicle:\n",
    "    def start(self):\n",
    "        print(\"Vehicle is starting\")\n",
    "\n",
    "class Car(Vehicle):\n",
    "    def start(self):  # Overriding parent method\n",
    "        print(\"Car is starting with ignition\")\n",
    "\n",
    "v = Vehicle()\n",
    "v.start()  \n",
    "\n",
    "c = Car()\n",
    "c.start()  \n"
   ]
  },
  {
   "cell_type": "code",
   "execution_count": 12,
   "metadata": {},
   "outputs": [
    {
     "name": "stdout",
     "output_type": "stream",
     "text": [
      "Args: (1, 'test', True)\n",
      "Type of args: <class 'tuple'>\n",
      "Args: ('python', 3.14)\n",
      "Type of args: <class 'tuple'>\n",
      "Kwargs: {'name': 'Prajwal', 'age': 25}\n",
      "Kwargs: {'language': 'Python', 'version': 3.11}\n"
     ]
    }
   ],
   "source": [
    "# Demonstrating *args and **kwargs\n",
    "def show_args(*args):\n",
    "    print(\"Args:\", args)\n",
    "    print(\"Type of args:\", type(args))\n",
    "\n",
    "def show_kwargs(**kwargs):\n",
    "    print(\"Kwargs:\", kwargs)\n",
    "\n",
    "show_args(1, \"test\", True)\n",
    "show_args(\"python\", 3.14)\n",
    "\n",
    "show_kwargs(name=\"Prajwal\", age=25)\n",
    "show_kwargs(language=\"Python\", version=3.11)\n",
    "\n",
    "# def combined_demo(*args, **kwargs):\n",
    "#     print(\"Args:\", args)\n",
    "#     print(\"Kwargs:\", kwargs)\n",
    "\n",
    "# combined_demo(100, 200, x=300, y=400)\n"
   ]
  },
  {
   "cell_type": "markdown",
   "metadata": {},
   "source": [
    "### Example for class uses in a big program"
   ]
  },
  {
   "cell_type": "markdown",
   "metadata": {},
   "source": [
    "### House Class"
   ]
  },
  {
   "cell_type": "code",
   "execution_count": 14,
   "metadata": {},
   "outputs": [
    {
     "name": "stdout",
     "output_type": "stream",
     "text": [
      "House Details:\n",
      "Price: $1,500,000\n",
      "Rooms: 5\n",
      "Floors: 2\n",
      "Location: Suburbs\n",
      "\n",
      "Outdoor Amenities:\n",
      "Pool Size: 400 sq ft\n",
      "Garden Area: 2000 sq ft\n",
      "Total outdoor area: 2400 sq ft\n"
     ]
    }
   ],
   "source": [
    "class House:\n",
    "    def __init__(self, price, rooms, floors, location):\n",
    "        self.price = price\n",
    "        self.rooms = rooms \n",
    "        self.floors = floors\n",
    "        self.location = location\n",
    "        \n",
    "    def get_details(self):\n",
    "        print(f\"House Details:\")\n",
    "        print(f\"Price: ${self.price:,}\")\n",
    "        print(f\"Rooms: {self.rooms}\")\n",
    "        print(f\"Floors: {self.floors}\")\n",
    "        print(f\"Location: {self.location}\")\n",
    "    \n",
    "    def calculate_price_per_room(self):\n",
    "        return self.price / self.rooms\n",
    "\n",
    "# Villa extending House\n",
    "class Villa(House):\n",
    "    def __init__(self, price, rooms, floors, location, pool_size, garden_area):\n",
    "        super().__init__(price, rooms, floors, location)\n",
    "        self.pool_size = pool_size\n",
    "        self.garden_area = garden_area\n",
    "        \n",
    "    def get_outdoor_details(self):\n",
    "        print(f\"\\nOutdoor Amenities:\")\n",
    "        print(f\"Pool Size: {self.pool_size} sq ft\")\n",
    "        print(f\"Garden Area: {self.garden_area} sq ft\")\n",
    "        \n",
    "    def total_outdoor_area(self):\n",
    "        return self.pool_size + self.garden_area\n",
    "\n",
    "# house instance \n",
    "# house = House(500000, 3, 2, \"Downtown\")\n",
    "# house.get_details()\n",
    "# print(f\"Price per room: ${house.calculate_price_per_room():,.2f}\")\n",
    "\n",
    "# villa instance, inheriting from House\n",
    "villa = Villa(1500000, 5, 2, \"Suburbs\", 400, 2000)\n",
    "villa.get_details()\n",
    "villa.get_outdoor_details()\n",
    "print(f\"Total outdoor area: {villa.total_outdoor_area()} sq ft\")"
   ]
  },
  {
   "cell_type": "markdown",
   "metadata": {},
   "source": [
    "### Library Class"
   ]
  },
  {
   "cell_type": "code",
   "execution_count": 17,
   "metadata": {},
   "outputs": [
    {
     "name": "stdout",
     "output_type": "stream",
     "text": [
      "Book \"The Catcher in the Rye\" by J.D. Salinger added.\n",
      "Book \"To Kill a Mockingbird\" by Harper Lee added.\n",
      "Book \"1984\" by George Orwell added.\n",
      "Book \"A Brief History of Time\" by Stephen Hawking added.\n",
      "Book \"The Art of Computer Programming\" by Donald Knuth added.\n",
      "Books available in \"City Library\":\n",
      "- \"The Catcher in the Rye\" by J.D. Salinger\n",
      "- \"To Kill a Mockingbird\" by Harper Lee\n",
      "- \"1984\" by George Orwell\n",
      "Book found: \"1984\" by George Orwell\n",
      "Book \"1984\" removed.\n",
      "Book \"1984\" not found.\n"
     ]
    }
   ],
   "source": [
    "class Library:\n",
    "    \"\"\"This is library class\"\"\"\n",
    "    def __init__(self, name):\n",
    "        self.name = name  # Library name\n",
    "        self.books = []  # List to store books\n",
    "\n",
    "    def add_book(self, title, author):\n",
    "        \"\"\"Adds a new book to the library.\"\"\"\n",
    "        self.books.append({\"title\": title, \"author\": author})\n",
    "        print(f'Book \"{title}\" by {author} added.')\n",
    "\n",
    "    def remove_book(self, title):\n",
    "        \"\"\"Removes a book from the library by title.\"\"\"\n",
    "        for book in self.books:\n",
    "            if book[\"title\"] == title:\n",
    "                self.books.remove(book)\n",
    "                print(f'Book \"{title}\" removed.')\n",
    "                return\n",
    "        print(f'Book \"{title}\" not found.')\n",
    "\n",
    "    def search_book(self, title):\n",
    "        \"\"\"Searches for a book by title.\"\"\"\n",
    "        for book in self.books:\n",
    "            if book[\"title\"] == title:\n",
    "                print(f'Book found: \"{book[\"title\"]}\" by {book[\"author\"]}')\n",
    "                return\n",
    "        print(f'Book \"{title}\" not found.')\n",
    "\n",
    "    def display_books(self):\n",
    "        \"\"\"Displays all books in the library.\"\"\"\n",
    "        if not self.books:\n",
    "            print(\"No books available in the library.\")\n",
    "        else:\n",
    "            print(f'Books available in \"{self.name}\":')\n",
    "            for book in self.books:\n",
    "                print(f'- \"{book[\"title\"]}\" by {book[\"author\"]}')\n",
    "\n",
    "# Creating multiple instances of Library\n",
    "library1 = Library(\"City Library\")\n",
    "library2 = Library(\"University Library\")\n",
    "\n",
    "# print(library1)\n",
    "# print(library1)\n",
    "\n",
    "# Adding books to Library 1\n",
    "library1.add_book(\"The Catcher in the Rye\", \"J.D. Salinger\")\n",
    "library1.add_book(\"To Kill a Mockingbird\", \"Harper Lee\")\n",
    "library1.add_book(\"1984\", \"George Orwell\")\n",
    "\n",
    "# # Adding books to Library 2\n",
    "library2.add_book(\"A Brief History of Time\", \"Stephen Hawking\")\n",
    "library2.add_book(\"The Art of Computer Programming\", \"Donald Knuth\")\n",
    "\n",
    "# # Displaying books in both libraries\n",
    "library1.display_books()\n",
    "# library2.display_books()\n",
    "\n",
    "# # Searching and removing books\n",
    "library1.search_book(\"1984\")\n",
    "library1.remove_book(\"1984\")\n",
    "library1.search_book(\"1984\")\n",
    "\n",
    "# # Displaying books after removal\n",
    "# library1.display_books()\n"
   ]
  },
  {
   "cell_type": "code",
   "execution_count": 16,
   "metadata": {},
   "outputs": [
    {
     "name": "stdout",
     "output_type": "stream",
     "text": [
      "Help on class Library in module __main__:\n",
      "\n",
      "class Library(builtins.object)\n",
      " |  Library(name)\n",
      " |  \n",
      " |  Methods defined here:\n",
      " |  \n",
      " |  __init__(self, name)\n",
      " |      Initialize self.  See help(type(self)) for accurate signature.\n",
      " |  \n",
      " |  add_book(self, title, author)\n",
      " |      Adds a new book to the library.\n",
      " |  \n",
      " |  display_books(self)\n",
      " |      Displays all books in the library.\n",
      " |  \n",
      " |  remove_book(self, title)\n",
      " |      Removes a book from the library by title.\n",
      " |  \n",
      " |  search_book(self, title)\n",
      " |      Searches for a book by title.\n",
      " |  \n",
      " |  ----------------------------------------------------------------------\n",
      " |  Data descriptors defined here:\n",
      " |  \n",
      " |  __dict__\n",
      " |      dictionary for instance variables (if defined)\n",
      " |  \n",
      " |  __weakref__\n",
      " |      list of weak references to the object (if defined)\n",
      "\n"
     ]
    }
   ],
   "source": [
    "help(Library)"
   ]
  },
  {
   "cell_type": "code",
   "execution_count": null,
   "metadata": {},
   "outputs": [],
   "source": []
  },
  {
   "cell_type": "markdown",
   "metadata": {},
   "source": [
    "### Encaptulation and Property Deorators ( `@property `)"
   ]
  },
  {
   "cell_type": "code",
   "execution_count": 19,
   "metadata": {},
   "outputs": [
    {
     "name": "stdout",
     "output_type": "stream",
     "text": [
      "25\n"
     ]
    }
   ],
   "source": [
    "class Person:\n",
    "    def __init__(self, name, age):\n",
    "        self.name = name\n",
    "        self._age = age  # this is protected variable\n",
    "\n",
    "    @property\n",
    "    def age(self):\n",
    "        return self._age  # getter method\n",
    "\n",
    "    @age.setter\n",
    "    def age(self, value):\n",
    "        if value < 0:\n",
    "            raise ValueError(\"Age cannot be negative!\")\n",
    "        self._age = value  # setter method\n",
    "\n",
    "p = Person(\"Prajwal\", 25)\n",
    "print(p.age)  \n",
    "p.age = 30    \n",
    "# p.age = -5  # This will raise an error\n"
   ]
  },
  {
   "cell_type": "markdown",
   "metadata": {},
   "source": [
    "### Destructor"
   ]
  },
  {
   "cell_type": "code",
   "execution_count": null,
   "metadata": {},
   "outputs": [],
   "source": [
    "class Example:\n",
    "    def __init__(self, name):\n",
    "        self.name = name\n",
    "        print(f\"Object {self.name} created.\")\n",
    "\n",
    "    def __del__(self):\n",
    "        print(f\"Object {self.name} is being destroyed.\")\n",
    "\n",
    "obj = Example(\"MyObject\")\n",
    "\n",
    "del obj\n",
    "# __del__() is called automatically when the object is deleted.\n"
   ]
  },
  {
   "cell_type": "markdown",
   "metadata": {},
   "source": [
    "## Polymorphism\n",
    "\n",
    "Polymorphism allows objects of different classes to be treated as objects of a common superclass. It enables methods with the same name to be used on different types of objects, promoting flexibility and code reusability.\n",
    "\n",
    "The easiest explanation of pollymorphism is, for your father and mother you are a **son**, for your siblings you are a **brother/sister**, for your teacher you are a **student**. So there could be multiple form for a object ( You are an object, Here)"
   ]
  },
  {
   "cell_type": "code",
   "execution_count": 2,
   "metadata": {},
   "outputs": [
    {
     "name": "stdout",
     "output_type": "stream",
     "text": [
      "Meow\n",
      "Woof\n"
     ]
    }
   ],
   "source": [
    "class Cat:\n",
    "    def sound(self):\n",
    "        return \"Meow\"\n",
    "\n",
    "class Dog:\n",
    "    def sound(self):\n",
    "        return \"Woof\"\n",
    "\n",
    "def make_sound(animal):\n",
    "    print(animal.sound())\n",
    "\n",
    "cat = Cat()\n",
    "dog = Dog()\n",
    "\n",
    "make_sound(cat)  \n",
    "make_sound(dog)  \n"
   ]
  },
  {
   "cell_type": "markdown",
   "metadata": {},
   "source": [
    "### polymorphism with inheritance"
   ]
  },
  {
   "cell_type": "code",
   "execution_count": null,
   "metadata": {},
   "outputs": [
    {
     "name": "stdout",
     "output_type": "stream",
     "text": [
      "Meow\n",
      "Im moving\n",
      "Woof\n",
      "Im moving\n"
     ]
    }
   ],
   "source": [
    "class Animal:\n",
    "    def make_sound(self):\n",
    "        return \"Im making a sound\"\n",
    "    def move(self):\n",
    "        return \"Im moving\"\n",
    "    \n",
    "class Cat(Animal):\n",
    "    def make_sound(self):\n",
    "        return \"Meow\"\n",
    "\n",
    "class Dog(Animal):\n",
    "    def make_sound(self):\n",
    "        return \"Woof\"\n",
    "\n",
    "animals = [Cat(), Dog()]\n",
    "\n",
    "for animal in animals:\n",
    "    print(animal.make_sound()) \n",
    "    print(animal.move()) "
   ]
  },
  {
   "cell_type": "code",
   "execution_count": 20,
   "metadata": {},
   "outputs": [
    {
     "name": "stdout",
     "output_type": "stream",
     "text": [
      "(6, 8)\n"
     ]
    }
   ],
   "source": [
    "class Vector:\n",
    "    def __init__(self, x, y):\n",
    "        self.x = x\n",
    "        self.y = y\n",
    "\n",
    "    def __add__(self, other):\n",
    "        return Vector(self.x + other.x, self.y + other.y)\n",
    "\n",
    "# __str__() is automatically called when using print(object) or str(object) to get a user-friendly string representation.\n",
    "\n",
    "    def __str__(self):\n",
    "        # print(3)\n",
    "        return f\"({self.x}, {self.y})\"\n",
    "\n",
    "v1 = Vector(2, 3)\n",
    "v2 = Vector(4, 5)\n",
    "\n",
    "v3 = v1 + v2 \n",
    "print(v3)\n"
   ]
  },
  {
   "cell_type": "code",
   "execution_count": null,
   "metadata": {},
   "outputs": [],
   "source": []
  }
 ],
 "metadata": {
  "kernelspec": {
   "display_name": "venv",
   "language": "python",
   "name": "python3"
  },
  "language_info": {
   "codemirror_mode": {
    "name": "ipython",
    "version": 3
   },
   "file_extension": ".py",
   "mimetype": "text/x-python",
   "name": "python",
   "nbconvert_exporter": "python",
   "pygments_lexer": "ipython3",
   "version": "3.10.12"
  }
 },
 "nbformat": 4,
 "nbformat_minor": 2
}
