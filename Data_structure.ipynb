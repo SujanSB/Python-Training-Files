{
 "cells": [
  {
   "cell_type": "code",
   "execution_count": 32,
   "metadata": {},
   "outputs": [
    {
     "name": "stdout",
     "output_type": "stream",
     "text": [
      "List: [6, 6, 5, 4, 3, 1]\n"
     ]
    }
   ],
   "source": [
    "# Lists: Mutable, ordered, indexing, slicing, methods (append(), remove(), sort(), reverse(), etc.)\n",
    "my_list = [1, 2, 3, 4, 5]\n",
    "my_list.append(6)\n",
    "my_list.append(6)\n",
    "my_list.remove(2)\n",
    "my_list.sort(reverse=True)\n",
    "print(\"List:\", my_list)\n"
   ]
  },
  {
   "cell_type": "code",
   "execution_count": 28,
   "metadata": {},
   "outputs": [
    {
     "data": {
      "text/plain": [
       "[6, 5, 4, 3, 1]"
      ]
     },
     "execution_count": 28,
     "metadata": {},
     "output_type": "execute_result"
    }
   ],
   "source": [
    "sorted(my_list, reverse=True)"
   ]
  },
  {
   "cell_type": "code",
   "execution_count": 31,
   "metadata": {},
   "outputs": [
    {
     "name": "stdout",
     "output_type": "stream",
     "text": [
      "[6, 5, 4, 'Hello', 1]\n"
     ]
    }
   ],
   "source": [
    "my_list[3] = \"Hello\"\n",
    "print(my_list)"
   ]
  },
  {
   "cell_type": "code",
   "execution_count": 33,
   "metadata": {},
   "outputs": [
    {
     "data": {
      "text/plain": [
       "2"
      ]
     },
     "execution_count": 33,
     "metadata": {},
     "output_type": "execute_result"
    }
   ],
   "source": [
    "my_list.count(6)"
   ]
  },
  {
   "cell_type": "code",
   "execution_count": 37,
   "metadata": {},
   "outputs": [],
   "source": [
    "new_list = my_list.copy()"
   ]
  },
  {
   "cell_type": "code",
   "execution_count": 41,
   "metadata": {},
   "outputs": [
    {
     "name": "stdout",
     "output_type": "stream",
     "text": [
      "Tuple: ('Hello', 2, 'There', 4, '!!!')\n",
      "Count of 3 in tuple: 0\n",
      "Index of 4 in tuple: 3\n",
      "There\n"
     ]
    }
   ],
   "source": [
    "\n",
    "# Tuples: Immutable, ordered, packing & unpacking, count(), index()\n",
    "my_tuple = (\"Hello\", 2, \"There\", 4, \"!!!\")\n",
    "print(\"Tuple:\", my_tuple)\n",
    "print(\"Count of 3 in tuple:\", my_tuple.count(3))\n",
    "print(\"Index of 4 in tuple:\", my_tuple.index(4))\n",
    "print(my_tuple[2])\n"
   ]
  },
  {
   "cell_type": "code",
   "execution_count": 42,
   "metadata": {},
   "outputs": [
    {
     "ename": "AttributeError",
     "evalue": "'tuple' object has no attribute 'copy'",
     "output_type": "error",
     "traceback": [
      "\u001b[0;31m---------------------------------------------------------------------------\u001b[0m",
      "\u001b[0;31mAttributeError\u001b[0m                            Traceback (most recent call last)",
      "Cell \u001b[0;32mIn[42], line 1\u001b[0m\n\u001b[0;32m----> 1\u001b[0m new_tuple \u001b[38;5;241m=\u001b[39m \u001b[43mmy_tuple\u001b[49m\u001b[38;5;241;43m.\u001b[39;49m\u001b[43mcopy\u001b[49m()\n\u001b[1;32m      2\u001b[0m new_tuple\n",
      "\u001b[0;31mAttributeError\u001b[0m: 'tuple' object has no attribute 'copy'"
     ]
    }
   ],
   "source": [
    "new_tuple = my_tuple.copy()\n",
    "new_tuple"
   ]
  },
  {
   "cell_type": "code",
   "execution_count": 43,
   "metadata": {},
   "outputs": [
    {
     "ename": "TypeError",
     "evalue": "'tuple' object does not support item assignment",
     "output_type": "error",
     "traceback": [
      "\u001b[0;31m---------------------------------------------------------------------------\u001b[0m",
      "\u001b[0;31mTypeError\u001b[0m                                 Traceback (most recent call last)",
      "Cell \u001b[0;32mIn[43], line 1\u001b[0m\n\u001b[0;32m----> 1\u001b[0m \u001b[43mmy_tuple\u001b[49m\u001b[43m[\u001b[49m\u001b[38;5;241;43m2\u001b[39;49m\u001b[43m]\u001b[49m \u001b[38;5;241m=\u001b[39m \u001b[38;5;241m6\u001b[39m\n",
      "\u001b[0;31mTypeError\u001b[0m: 'tuple' object does not support item assignment"
     ]
    }
   ],
   "source": [
    "my_tuple[2] = 6\n"
   ]
  },
  {
   "cell_type": "code",
   "execution_count": 44,
   "metadata": {},
   "outputs": [
    {
     "data": {
      "text/plain": [
       "['Hello', 2, 'There', 4, '!!!']"
      ]
     },
     "execution_count": 44,
     "metadata": {},
     "output_type": "execute_result"
    }
   ],
   "source": [
    "tuple_list = list(my_tuple)\n",
    "tuple_list"
   ]
  },
  {
   "cell_type": "code",
   "execution_count": 45,
   "metadata": {},
   "outputs": [
    {
     "name": "stdout",
     "output_type": "stream",
     "text": [
      "Set: {1, 3, 4, 5, 6}\n",
      "Union: {1, 3, 4, 5, 6, 7, 8}\n",
      "Intersection: {4, 5, 6}\n",
      "Difference: {1, 3}\n"
     ]
    }
   ],
   "source": [
    "\n",
    "# Sets: Unordered, unique elements, set operations (union, intersection, difference)\n",
    "my_set = {1, 2, 3, 4, 5}\n",
    "my_set.add(6)\n",
    "my_set.remove(2)\n",
    "another_set = {4, 5, 6, 7, 8}\n",
    "print(\"Set:\", my_set)\n",
    "print(\"Union:\", my_set.union(another_set))\n",
    "print(\"Intersection:\", my_set.intersection(another_set))\n",
    "print(\"Difference:\", my_set.difference(another_set))\n"
   ]
  },
  {
   "cell_type": "code",
   "execution_count": 46,
   "metadata": {},
   "outputs": [
    {
     "data": {
      "text/plain": [
       "{1, 7}"
      ]
     },
     "execution_count": 46,
     "metadata": {},
     "output_type": "execute_result"
    }
   ],
   "source": [
    "first_set = {1,3,5,7}\n",
    "second_set = {2,3,4,5}\n",
    "result = first_set - second_set\n",
    "result"
   ]
  },
  {
   "cell_type": "code",
   "execution_count": 52,
   "metadata": {},
   "outputs": [
    {
     "name": "stdout",
     "output_type": "stream",
     "text": [
      "{3, 5}\n",
      "{3, 5}\n"
     ]
    }
   ],
   "source": [
    "print(first_set.intersection(second_set))\n",
    "t3 = first_set.union(second_set)\n",
    "t1 = first_set - second_set\n",
    "t2 = second_set - first_set\n",
    "\n",
    "intersection_value = t3 - t1 - t2\n",
    "intersection_value\n",
    "print(intersection_value)"
   ]
  },
  {
   "cell_type": "code",
   "execution_count": 54,
   "metadata": {},
   "outputs": [
    {
     "name": "stdout",
     "output_type": "stream",
     "text": [
      "Dictionary: {'name': 'Alice', 'age': 26, 'gender': 'F', 'location': 'Wonderland'}\n",
      "Keys: dict_keys(['name', 'age', 'gender', 'location'])\n",
      "Values: dict_values(['Alice', 26, 'F', 'Wonderland'])\n",
      "Items: dict_items([('name', 'Alice'), ('age', 26), ('gender', 'F'), ('location', 'Wonderland')])\n"
     ]
    }
   ],
   "source": [
    "\n",
    "# Dictionaries: Key-value pairs, accessing/modifying elements, dictionary methods (keys(), values(), items(), update(), etc.)\n",
    "simple_dictionary = {'name': 'Alice', 'age': 25, 'gender': 'F'}\n",
    "simple_dictionary['age'] = 26\n",
    "simple_dictionary.update({'location': 'Wonderland'})\n",
    "print(\"Dictionary:\", simple_dictionary)\n",
    "print(\"Keys:\", simple_dictionary.keys())\n",
    "print(\"Values:\", simple_dictionary.values())\n",
    "print(\"Items:\", simple_dictionary.items())"
   ]
  },
  {
   "cell_type": "markdown",
   "metadata": {},
   "source": [
    "### List Comprehensions"
   ]
  },
  {
   "cell_type": "code",
   "execution_count": 12,
   "metadata": {},
   "outputs": [
    {
     "name": "stdout",
     "output_type": "stream",
     "text": [
      "Squares: [0, 1, 4, 9, 16, 25, 36, 49, 64, 81]\n"
     ]
    }
   ],
   "source": [
    "# Basic syntax\n",
    "squares = [x**2 for x in range(10)]\n",
    "print(\"Squares:\", squares)\n"
   ]
  },
  {
   "cell_type": "code",
   "execution_count": 13,
   "metadata": {},
   "outputs": [
    {
     "name": "stdout",
     "output_type": "stream",
     "text": [
      "Even Squares: [0, 4, 16, 36, 64]\n"
     ]
    }
   ],
   "source": [
    "# Conditional comprehensions (if)\n",
    "even_squares = [x**2 for x in range(10) if x % 2 == 0]\n",
    "print(\"Even Squares:\", even_squares)"
   ]
  },
  {
   "cell_type": "code",
   "execution_count": 14,
   "metadata": {},
   "outputs": [
    {
     "name": "stdout",
     "output_type": "stream",
     "text": [
      "Odd or Even: ['even', 'odd', 'even', 'odd', 'even', 'odd', 'even', 'odd', 'even', 'odd']\n"
     ]
    }
   ],
   "source": [
    "\n",
    "# Conditional comprehensions (if-else)\n",
    "odd_even = [\"even\" if x % 2 == 0 else \"odd\" for x in range(10)]\n",
    "print(\"Odd or Even:\", odd_even)\n"
   ]
  },
  {
   "cell_type": "code",
   "execution_count": 15,
   "metadata": {},
   "outputs": [
    {
     "name": "stdout",
     "output_type": "stream",
     "text": [
      "Matrix: [[0, 1, 2, 3, 4], [0, 1, 2, 3, 4], [0, 1, 2, 3, 4]]\n"
     ]
    }
   ],
   "source": [
    "\n",
    "# Nested comprehensions\n",
    "matrix = [[j for j in range(5)] for i in range(3)]\n",
    "print(\"Matrix:\", matrix)\n"
   ]
  },
  {
   "cell_type": "markdown",
   "metadata": {},
   "source": [
    "### Dictionary Comprehensions"
   ]
  },
  {
   "cell_type": "code",
   "execution_count": 16,
   "metadata": {},
   "outputs": [
    {
     "name": "stdout",
     "output_type": "stream",
     "text": [
      "Squares Dictionary: {0: 0, 1: 1, 2: 4, 3: 9, 4: 16, 5: 25, 6: 36, 7: 49, 8: 64, 9: 81}\n"
     ]
    }
   ],
   "source": [
    "# Basic syntax\n",
    "squares_dict = {x: x**2 for x in range(10)}\n",
    "print(\"Squares Dictionary:\", squares_dict)\n"
   ]
  },
  {
   "cell_type": "code",
   "execution_count": 17,
   "metadata": {},
   "outputs": [
    {
     "name": "stdout",
     "output_type": "stream",
     "text": [
      "Even Squares Dictionary: {0: 0, 2: 4, 4: 16, 6: 36, 8: 64}\n"
     ]
    }
   ],
   "source": [
    "# Conditional comprehensions (if)\n",
    "even_squares_dict = {x: x**2 for x in range(10) if x % 2 == 0}\n",
    "print(\"Even Squares Dictionary:\", even_squares_dict)\n"
   ]
  },
  {
   "cell_type": "code",
   "execution_count": 18,
   "metadata": {},
   "outputs": [
    {
     "name": "stdout",
     "output_type": "stream",
     "text": [
      "Nested Dictionary: {0: {0: 0, 1: 1, 2: 4, 3: 9, 4: 16}, 1: {0: 0, 1: 1, 2: 4, 3: 9, 4: 16}, 2: {0: 0, 1: 1, 2: 4, 3: 9, 4: 16}}\n"
     ]
    }
   ],
   "source": [
    "# Nested comprehensions\n",
    "nested_dict = {i: {j: j**2 for j in range(5)} for i in range(3)}\n",
    "print(\"Nested Dictionary:\", nested_dict)"
   ]
  },
  {
   "cell_type": "code",
   "execution_count": 19,
   "metadata": {},
   "outputs": [
    {
     "name": "stdout",
     "output_type": "stream",
     "text": [
      "List item: 6\n",
      "List item: 5\n",
      "List item: 4\n",
      "List item: 3\n",
      "List item: 1\n",
      "Set item: 1\n",
      "Set item: 3\n",
      "Set item: 4\n",
      "Set item: 5\n",
      "Set item: 6\n",
      "Dictionary key: name, value: Alice\n",
      "Dictionary key: age, value: 26\n",
      "Dictionary key: gender, value: F\n",
      "Dictionary key: location, value: Wonderland\n"
     ]
    }
   ],
   "source": [
    "# Iterating through a list\n",
    "for item in my_list:\n",
    "    print(\"List item:\", item)\n",
    "\n",
    "# Iterating through a set\n",
    "for item in my_set:\n",
    "    print(\"Set item:\", item)\n",
    "\n",
    "# Iterating through a dictionary\n",
    "for key, value in simple_dictionary.items():\n",
    "    print(f\"Dictionary key: {key}, value: {value}\")"
   ]
  },
  {
   "cell_type": "markdown",
   "metadata": {},
   "source": [
    "### List Operations"
   ]
  },
  {
   "cell_type": "code",
   "execution_count": 55,
   "metadata": {},
   "outputs": [
    {
     "name": "stdout",
     "output_type": "stream",
     "text": [
      "List: [10, 5, 30, 20, 5]\n",
      "Length: 5\n",
      "Minimum: 5\n",
      "Maximum: 30\n",
      "Sum: 70\n",
      "Sorted List: [5, 5, 10, 20, 30]\n",
      "Count of 5: 2\n",
      "Index of 20: 3\n",
      "\n"
     ]
    }
   ],
   "source": [
    "\n",
    "list_example = [10, 5, 30, 20, 5]\n",
    "print(\"List:\", list_example)\n",
    "print(\"Length:\", len(list_example))\n",
    "print(\"Minimum:\", min(list_example))\n",
    "print(\"Maximum:\", max(list_example))\n",
    "print(\"Sum:\", sum(list_example))\n",
    "print(\"Sorted List:\", sorted(list_example))\n",
    "print(\"Count of 5:\", list_example.count(5))\n",
    "print(\"Index of 20:\", list_example.index(20))\n",
    "print()\n",
    "\n"
   ]
  },
  {
   "cell_type": "markdown",
   "metadata": {},
   "source": [
    "### Set Operations"
   ]
  },
  {
   "cell_type": "code",
   "execution_count": 21,
   "metadata": {},
   "outputs": [
    {
     "name": "stdout",
     "output_type": "stream",
     "text": [
      "Set: {10, 20, 5, 30}\n",
      "Length: 4\n",
      "Minimum: 5\n",
      "Maximum: 30\n",
      "Sum: 65\n",
      "Sorted Set: [5, 10, 20, 30]\n",
      "\n"
     ]
    }
   ],
   "source": [
    "my_set = {10, 5, 30, 20}\n",
    "print(\"Set:\", my_set)\n",
    "print(\"Length:\", len(my_set))\n",
    "print(\"Minimum:\", min(my_set))\n",
    "print(\"Maximum:\", max(my_set))\n",
    "print(\"Sum:\", sum(my_set))\n",
    "print(\"Sorted Set:\", sorted(my_set))  # Returns a sorted list\n",
    "print()\n"
   ]
  },
  {
   "cell_type": "markdown",
   "metadata": {},
   "source": [
    "### Dictionary Operations"
   ]
  },
  {
   "cell_type": "code",
   "execution_count": 22,
   "metadata": {},
   "outputs": [
    {
     "name": "stdout",
     "output_type": "stream",
     "text": [
      "Dictionary: {'a': 10, 'b': 5, 'c': 30, 'd': 20}\n",
      "Length: 4\n",
      "Keys: dict_keys(['a', 'b', 'c', 'd'])\n",
      "Values: dict_values([10, 5, 30, 20])\n",
      "Minimum Key: a\n",
      "Maximum Key: d\n",
      "Minimum Value: 5\n",
      "Maximum Value: 30\n",
      "Sum of Values: 65\n",
      "Sorted Keys: ['a', 'b', 'c', 'd']\n",
      "Sorted Values: [5, 10, 20, 30]\n"
     ]
    }
   ],
   "source": [
    "simple_dictionary = {\"a\": 10, \"b\": 5, \"c\": 30, \"d\": 20}\n",
    "print(\"Dictionary:\", simple_dictionary)\n",
    "print(\"Length:\", len(simple_dictionary))  \n",
    "print(\"Keys:\", simple_dictionary.keys())  \n",
    "print(\"Values:\", simple_dictionary.values()) \n",
    "print(\"Minimum Key:\", min(simple_dictionary)) \n",
    "print(\"Maximum Key:\", max(simple_dictionary))  \n",
    "print(\"Minimum Value:\", min(simple_dictionary.values()))  \n",
    "print(\"Maximum Value:\", max(simple_dictionary.values()))  \n",
    "print(\"Sum of Values:\", sum(simple_dictionary.values()))  \n",
    "print(\"Sorted Keys:\", sorted(simple_dictionary))  \n",
    "print(\"Sorted Values:\", sorted(simple_dictionary.values()))  "
   ]
  },
  {
   "cell_type": "code",
   "execution_count": 23,
   "metadata": {},
   "outputs": [
    {
     "name": "stdout",
     "output_type": "stream",
     "text": [
      "Original List: [1, 2, 2, 3, 4, 4, 5]\n",
      "List after removing duplicates: [1, 2, 3, 4, 5]\n",
      "Frequency Counter: {1: 1, 2: 2, 3: 1, 4: 2, 5: 1}\n",
      "Merged Dictionary: {'a': 1, 'b': 3, 'c': 4}\n",
      "Sorted Dictionary by Values: {'b': 1, 'c': 2, 'a': 3}\n"
     ]
    }
   ],
   "source": [
    "def remove_duplicates(input_list):\n",
    "    return list(set(input_list))\n",
    "\n",
    "def frequency_counter(input_list):\n",
    "    freq_dict = {}\n",
    "    for item in input_list:\n",
    "        if item in freq_dict:\n",
    "            freq_dict[item] += 1\n",
    "        else:\n",
    "            freq_dict[item] = 1\n",
    "    return freq_dict\n",
    "\n",
    "def merge_dictionaries(dict1, dict2):\n",
    "    merged_dict = dict1.copy()\n",
    "    merged_dict.update(dict2)\n",
    "    return merged_dict\n",
    "\n",
    "def sort_dict_by_values(input_dict):\n",
    "    return dict(sorted(input_dict.items(), key=lambda item: item[1]))\n",
    "\n",
    "# Example usage\n",
    "if __name__ == \"__main__\":\n",
    "    example_list = [1, 2, 2, 3, 4, 4, 5]\n",
    "    \n",
    "    print(\"Original List:\", example_list)\n",
    "    print(\"List after removing duplicates:\", remove_duplicates(example_list))\n",
    "    \n",
    "    print(\"Frequency Counter:\", frequency_counter(example_list))\n",
    "    \n",
    "    dict1 = {'a': 1, 'b': 2}\n",
    "    dict2 = {'b': 3, 'c': 4}\n",
    "    \n",
    "    print(\"Merged Dictionary:\", merge_dictionaries(dict1, dict2))\n",
    "    \n",
    "    unsorted_dict = {'a': 3, 'b': 1, 'c': 2}\n",
    "    print(\"Sorted Dictionary by Values:\", sort_dict_by_values(unsorted_dict))"
   ]
  },
  {
   "cell_type": "code",
   "execution_count": null,
   "metadata": {},
   "outputs": [],
   "source": []
  }
 ],
 "metadata": {
  "kernelspec": {
   "display_name": "venv",
   "language": "python",
   "name": "python3"
  },
  "language_info": {
   "codemirror_mode": {
    "name": "ipython",
    "version": 3
   },
   "file_extension": ".py",
   "mimetype": "text/x-python",
   "name": "python",
   "nbconvert_exporter": "python",
   "pygments_lexer": "ipython3",
   "version": "3.10.12"
  }
 },
 "nbformat": 4,
 "nbformat_minor": 2
}
