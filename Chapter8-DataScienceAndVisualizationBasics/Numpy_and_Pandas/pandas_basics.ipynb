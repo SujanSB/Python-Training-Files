{
 "cells": [
  {
   "cell_type": "markdown",
   "metadata": {},
   "source": [
    "# Pandas: Essential Data Manipulation Library\n",
    "\n",
    "Pandas is a powerful Python library for data manipulation and analysis. It provides:\n",
    "\n",
    "- High-performance, easy-to-use data structures (DataFrame and Series)\n",
    "- Tools for reading/writing various file formats (CSV, Excel, SQL databases)\n",
    "- Data alignment and integrated handling of missing data\n",
    "- Reshaping, merging, and pivoting data\n",
    "- Robust time series functionality\n",
    "\n",
    "Key features that make it essential for Data Science:\n",
    "1. Efficient data handling of large datasets\n",
    "2. Built-in data visualization\n",
    "3. Powerful data aggregation and transformation operations\n",
    "4. Seamless integration with other scientific Python libraries"
   ]
  },
  {
   "cell_type": "code",
   "execution_count": 15,
   "metadata": {},
   "outputs": [
    {
     "data": {
      "text/html": [
       "<div>\n",
       "<style scoped>\n",
       "    .dataframe tbody tr th:only-of-type {\n",
       "        vertical-align: middle;\n",
       "    }\n",
       "\n",
       "    .dataframe tbody tr th {\n",
       "        vertical-align: top;\n",
       "    }\n",
       "\n",
       "    .dataframe thead th {\n",
       "        text-align: right;\n",
       "    }\n",
       "</style>\n",
       "<table border=\"1\" class=\"dataframe\">\n",
       "  <thead>\n",
       "    <tr style=\"text-align: right;\">\n",
       "      <th></th>\n",
       "      <th>name</th>\n",
       "      <th>age</th>\n",
       "      <th>city</th>\n",
       "    </tr>\n",
       "  </thead>\n",
       "  <tbody>\n",
       "    <tr>\n",
       "      <th>0</th>\n",
       "      <td>John</td>\n",
       "      <td>25</td>\n",
       "      <td>New York</td>\n",
       "    </tr>\n",
       "    <tr>\n",
       "      <th>1</th>\n",
       "      <td>Alice</td>\n",
       "      <td>30</td>\n",
       "      <td>San Francisco</td>\n",
       "    </tr>\n",
       "    <tr>\n",
       "      <th>2</th>\n",
       "      <td>Bob</td>\n",
       "      <td>35</td>\n",
       "      <td>Chicago</td>\n",
       "    </tr>\n",
       "    <tr>\n",
       "      <th>3</th>\n",
       "      <td>Emma</td>\n",
       "      <td>28</td>\n",
       "      <td>Boston</td>\n",
       "    </tr>\n",
       "    <tr>\n",
       "      <th>4</th>\n",
       "      <td>David</td>\n",
       "      <td>32</td>\n",
       "      <td>Seattle</td>\n",
       "    </tr>\n",
       "  </tbody>\n",
       "</table>\n",
       "</div>"
      ],
      "text/plain": [
       "    name  age           city\n",
       "0   John   25       New York\n",
       "1  Alice   30  San Francisco\n",
       "2    Bob   35        Chicago\n",
       "3   Emma   28         Boston\n",
       "4  David   32        Seattle"
      ]
     },
     "execution_count": 15,
     "metadata": {},
     "output_type": "execute_result"
    }
   ],
   "source": [
    "import pandas as pd\n",
    "\n",
    "# Create a sample list of dictionaries\n",
    "data = [\n",
    "    {'name': 'John', 'age': 25, 'city': 'New York'},\n",
    "    {'name': 'Alice', 'age': 30, 'city': 'San Francisco'},\n",
    "    {'name': 'Bob', 'age': 35, 'city': 'Chicago'}\n",
    "]\n",
    "\n",
    "data.extend([\n",
    "    {'name': 'Emma', 'age': 28, 'city': 'Boston'},\n",
    "    {'name': 'David', 'age': 32, 'city': 'Seattle'}\n",
    "])\n",
    "\n",
    "# Convert list to DataFrame\n",
    "df = pd.DataFrame(data)\n",
    "\n",
    "# Display the DataFrame\n",
    "df"
   ]
  },
  {
   "cell_type": "code",
   "execution_count": 9,
   "metadata": {},
   "outputs": [
    {
     "name": "stdout",
     "output_type": "stream",
     "text": [
      "\n",
      "Loaded DataFrame:\n"
     ]
    },
    {
     "data": {
      "text/html": [
       "<div>\n",
       "<style scoped>\n",
       "    .dataframe tbody tr th:only-of-type {\n",
       "        vertical-align: middle;\n",
       "    }\n",
       "\n",
       "    .dataframe tbody tr th {\n",
       "        vertical-align: top;\n",
       "    }\n",
       "\n",
       "    .dataframe thead th {\n",
       "        text-align: right;\n",
       "    }\n",
       "</style>\n",
       "<table border=\"1\" class=\"dataframe\">\n",
       "  <thead>\n",
       "    <tr style=\"text-align: right;\">\n",
       "      <th></th>\n",
       "      <th>name</th>\n",
       "      <th>age</th>\n",
       "      <th>city</th>\n",
       "    </tr>\n",
       "  </thead>\n",
       "  <tbody>\n",
       "    <tr>\n",
       "      <th>0</th>\n",
       "      <td>John</td>\n",
       "      <td>25</td>\n",
       "      <td>New York</td>\n",
       "    </tr>\n",
       "    <tr>\n",
       "      <th>1</th>\n",
       "      <td>Alice</td>\n",
       "      <td>30</td>\n",
       "      <td>San Francisco</td>\n",
       "    </tr>\n",
       "    <tr>\n",
       "      <th>2</th>\n",
       "      <td>Bob</td>\n",
       "      <td>35</td>\n",
       "      <td>Chicago</td>\n",
       "    </tr>\n",
       "    <tr>\n",
       "      <th>3</th>\n",
       "      <td>Emma</td>\n",
       "      <td>28</td>\n",
       "      <td>Boston</td>\n",
       "    </tr>\n",
       "    <tr>\n",
       "      <th>4</th>\n",
       "      <td>David</td>\n",
       "      <td>32</td>\n",
       "      <td>Seattle</td>\n",
       "    </tr>\n",
       "  </tbody>\n",
       "</table>\n",
       "</div>"
      ],
      "text/plain": [
       "    name  age           city\n",
       "0   John   25       New York\n",
       "1  Alice   30  San Francisco\n",
       "2    Bob   35        Chicago\n",
       "3   Emma   28         Boston\n",
       "4  David   32        Seattle"
      ]
     },
     "execution_count": 9,
     "metadata": {},
     "output_type": "execute_result"
    }
   ],
   "source": [
    "# Save DataFrame to CSV\n",
    "df.to_csv('sample_data.csv', index=False)\n",
    "\n",
    "# Read back the CSV file\n",
    "df_loaded = pd.read_csv('sample_data.csv')\n",
    "\n",
    "# Display the loaded DataFrame\n",
    "print(\"\\nLoaded DataFrame:\")\n",
    "df_loaded"
   ]
  },
  {
   "cell_type": "code",
   "execution_count": null,
   "metadata": {
    "vscode": {
     "languageId": "r"
    }
   },
   "outputs": [],
   "source": [
    "# Basic DataFrame information\n",
    "print(\"Basic DataFrame Info:\")\n",
    "print(df.info())\n",
    "print(\"\\nDataFrame Description:\")\n",
    "print(df.describe())\n"
   ]
  },
  {
   "cell_type": "code",
   "execution_count": 10,
   "metadata": {},
   "outputs": [
    {
     "name": "stdout",
     "output_type": "stream",
     "text": [
      "\n",
      "Column Names: ['name', 'age', 'city']\n",
      "\n",
      "First 2 rows:\n",
      "    name  age           city\n",
      "0   John   25       New York\n",
      "1  Alice   30  San Francisco\n",
      "\n",
      "Last 2 rows:\n",
      "    name  age     city\n",
      "3   Emma   28   Boston\n",
      "4  David   32  Seattle\n"
     ]
    }
   ],
   "source": [
    "# Basic data exploration\n",
    "print(\"\\nColumn Names:\", df.columns.tolist())\n",
    "print(\"\\nFirst 2 rows:\")\n",
    "print(df.head(2))\n",
    "print(\"\\nLast 2 rows:\")\n",
    "print(df.tail(2))\n"
   ]
  },
  {
   "cell_type": "code",
   "execution_count": 11,
   "metadata": {},
   "outputs": [
    {
     "name": "stdout",
     "output_type": "stream",
     "text": [
      "\n",
      "Age Statistics:\n",
      "Average age: 30.0\n",
      "Minimum age: 25\n",
      "Maximum age: 35\n"
     ]
    }
   ],
   "source": [
    "# Basic statistics and aggregations\n",
    "print(\"\\nAge Statistics:\")\n",
    "print(\"Average age:\", df['age'].mean())\n",
    "print(\"Minimum age:\", df['age'].min())\n",
    "print(\"Maximum age:\", df['age'].max())\n"
   ]
  },
  {
   "cell_type": "code",
   "execution_count": 12,
   "metadata": {},
   "outputs": [
    {
     "name": "stdout",
     "output_type": "stream",
     "text": [
      "\n",
      "People older than 30:\n",
      "    name  age     city\n",
      "2    Bob   35  Chicago\n",
      "4  David   32  Seattle\n",
      "\n",
      "Sorted by age (descending):\n",
      "    name  age           city\n",
      "2    Bob   35        Chicago\n",
      "4  David   32        Seattle\n",
      "1  Alice   30  San Francisco\n",
      "3   Emma   28         Boston\n",
      "0   John   25       New York\n"
     ]
    }
   ],
   "source": [
    "# Filtering and sorting\n",
    "print(\"\\nPeople older than 30:\")\n",
    "print(df[df['age'] > 30])\n",
    "\n",
    "print(\"\\nSorted by age (descending):\")\n",
    "print(df.sort_values('age', ascending=False))\n"
   ]
  },
  {
   "cell_type": "code",
   "execution_count": 13,
   "metadata": {},
   "outputs": [
    {
     "name": "stdout",
     "output_type": "stream",
     "text": [
      "\n",
      "City distribution:\n",
      "city\n",
      "New York         1\n",
      "San Francisco    1\n",
      "Chicago          1\n",
      "Boston           1\n",
      "Seattle          1\n",
      "Name: count, dtype: int64\n"
     ]
    }
   ],
   "source": [
    "# Value counts\n",
    "print(\"\\nCity distribution:\")\n",
    "print(df['city'].value_counts())\n"
   ]
  },
  {
   "cell_type": "code",
   "execution_count": 14,
   "metadata": {},
   "outputs": [
    {
     "name": "stdout",
     "output_type": "stream",
     "text": [
      "\n",
      "DataFrame with age groups:\n"
     ]
    },
    {
     "data": {
      "text/html": [
       "<div>\n",
       "<style scoped>\n",
       "    .dataframe tbody tr th:only-of-type {\n",
       "        vertical-align: middle;\n",
       "    }\n",
       "\n",
       "    .dataframe tbody tr th {\n",
       "        vertical-align: top;\n",
       "    }\n",
       "\n",
       "    .dataframe thead th {\n",
       "        text-align: right;\n",
       "    }\n",
       "</style>\n",
       "<table border=\"1\" class=\"dataframe\">\n",
       "  <thead>\n",
       "    <tr style=\"text-align: right;\">\n",
       "      <th></th>\n",
       "      <th>name</th>\n",
       "      <th>age</th>\n",
       "      <th>city</th>\n",
       "      <th>age_group</th>\n",
       "    </tr>\n",
       "  </thead>\n",
       "  <tbody>\n",
       "    <tr>\n",
       "      <th>0</th>\n",
       "      <td>John</td>\n",
       "      <td>25</td>\n",
       "      <td>New York</td>\n",
       "      <td>20-25</td>\n",
       "    </tr>\n",
       "    <tr>\n",
       "      <th>1</th>\n",
       "      <td>Alice</td>\n",
       "      <td>30</td>\n",
       "      <td>San Francisco</td>\n",
       "      <td>26-30</td>\n",
       "    </tr>\n",
       "    <tr>\n",
       "      <th>2</th>\n",
       "      <td>Bob</td>\n",
       "      <td>35</td>\n",
       "      <td>Chicago</td>\n",
       "      <td>31-35</td>\n",
       "    </tr>\n",
       "    <tr>\n",
       "      <th>3</th>\n",
       "      <td>Emma</td>\n",
       "      <td>28</td>\n",
       "      <td>Boston</td>\n",
       "      <td>26-30</td>\n",
       "    </tr>\n",
       "    <tr>\n",
       "      <th>4</th>\n",
       "      <td>David</td>\n",
       "      <td>32</td>\n",
       "      <td>Seattle</td>\n",
       "      <td>31-35</td>\n",
       "    </tr>\n",
       "  </tbody>\n",
       "</table>\n",
       "</div>"
      ],
      "text/plain": [
       "    name  age           city age_group\n",
       "0   John   25       New York     20-25\n",
       "1  Alice   30  San Francisco     26-30\n",
       "2    Bob   35        Chicago     31-35\n",
       "3   Emma   28         Boston     26-30\n",
       "4  David   32        Seattle     31-35"
      ]
     },
     "execution_count": 14,
     "metadata": {},
     "output_type": "execute_result"
    }
   ],
   "source": [
    "# Basic data transformation\n",
    "df['age_group'] = pd.cut(df['age'], \n",
    "                        bins=[20, 25, 30, 35, 40],\n",
    "                        labels=['20-25', '26-30', '31-35', '36-40'])\n",
    "print(\"\\nDataFrame with age groups:\")\n",
    "df"
   ]
  },
  {
   "cell_type": "code",
   "execution_count": null,
   "metadata": {},
   "outputs": [],
   "source": []
  }
 ],
 "metadata": {
  "kernelspec": {
   "display_name": "basicenv",
   "language": "python",
   "name": "python3"
  },
  "language_info": {
   "codemirror_mode": {
    "name": "ipython",
    "version": 3
   },
   "file_extension": ".py",
   "mimetype": "text/x-python",
   "name": "python",
   "nbconvert_exporter": "python",
   "pygments_lexer": "ipython3",
   "version": "3.10.13"
  }
 },
 "nbformat": 4,
 "nbformat_minor": 2
}
