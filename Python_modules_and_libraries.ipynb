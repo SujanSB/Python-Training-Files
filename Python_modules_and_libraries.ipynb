{
 "cells": [
  {
   "cell_type": "markdown",
   "metadata": {},
   "source": [
    "# Python Modules and Standard Libraries\n",
    "\n",
    "## Modules\n",
    "- Modules are Python files containing code, functions, classes and variables\n",
    "- Allow code organization and reuse\n",
    "- Can be imported using `import` statement\n",
    "- Help break large programs into manageable pieces\n",
    "\n",
    "## Standard Libraries\n",
    "- Built-in modules that come with Python installation\n",
    "- Provide commonly used functionality\n",
    "- No additional installation required\n",
    "- Key examples include:\n",
    "    - `math`: Mathematical functions\n",
    "    - `datetime`: Date and time handling\n",
    "    - `random`: Random number generation\n",
    "    - `os`: Operating system interface\n",
    "    - `sys`: System-specific parameters\n",
    "    - `json`: JSON encoding/decoding\n",
    "    - `csv`: CSV file handling\n",
    "    - `re`: Regular expressions\n",
    "\n",
    "## Usage\n",
    "```python\n",
    "import math  # Import entire module\n",
    "from datetime import datetime  # Import specific component\n",
    "import os as operating_system  # Import with alias\n",
    "```"
   ]
  },
  {
   "cell_type": "markdown",
   "metadata": {},
   "source": []
  },
  {
   "cell_type": "markdown",
   "metadata": {},
   "source": [
    "## Key Python Standard Libraries\n",
    "\n",
    "### math\n",
    "- Mathematical operations and functions\n",
    "- Constants like pi and e\n",
    "- Trigonometric functions\n",
    "- Logarithms and exponentials\n",
    "\n",
    "### datetime\n",
    "- Date and time handling\n",
    "- Creating, formatting dates\n",
    "- Time zone support\n",
    "- Date arithmetic operations\n",
    "\n",
    "### os\n",
    "- Operating system interface\n",
    "- File/directory operations\n",
    "- Environment variables\n",
    "- Path manipulations\n",
    "\n",
    "### sys\n",
    "- System-specific operations\n",
    "- Command line arguments\n",
    "- Python runtime environment\n",
    "- System exit handlers\n",
    "\n",
    "### json\n",
    "- JSON data encoding/decoding\n",
    "- Read/write JSON files\n",
    "- Convert Python objects to JSON\n",
    "- Parse JSON to Python objects\n",
    "\n",
    "### re\n",
    "- Regular expression operations\n",
    "- Pattern matching\n",
    "- Text search and replace\n",
    "- String manipulation\n",
    "\n",
    "### csv\n",
    "- CSV file reading/writing\n",
    "- Different CSV dialects\n",
    "- Data parsing options\n",
    "- Custom delimiter handling\n",
    "\n",
    "and many more...\n"
   ]
  },
  {
   "cell_type": "code",
   "execution_count": null,
   "metadata": {},
   "outputs": [
    {
     "name": "stdout",
     "output_type": "stream",
     "text": [
      "Math Operations:\n",
      "Pi: 3.141592653589793\n",
      "Square root of 16: 4.0\n",
      "Cosine of 0: 1.0\n",
      "\n"
     ]
    }
   ],
   "source": [
    "import math\n",
    "\n",
    "print(\"Math Operations:\")\n",
    "print(f\"Pi: {math.pi}\")\n",
    "print(f\"Square root of 16: {math.sqrt(16)}\")\n",
    "print(f\"Cosine of 0: {math.cos(0)}\\n\")\n"
   ]
  },
  {
   "cell_type": "code",
   "execution_count": 7,
   "metadata": {},
   "outputs": [
    {
     "name": "stdout",
     "output_type": "stream",
     "text": [
      "DateTime Operations:\n",
      "Current time: 2025-02-20 09:35:25.561893\n",
      "Formatted date: 2025-02-20\n",
      "\n"
     ]
    }
   ],
   "source": [
    "from datetime import datetime\n",
    "\n",
    "print(\"DateTime Operations:\")\n",
    "current_time = datetime.now()\n",
    "print(f\"Current time: {current_time}\")\n",
    "print(f\"Formatted date: {current_time.strftime('%Y-%m-%d')}\\n\")\n"
   ]
  },
  {
   "cell_type": "code",
   "execution_count": 8,
   "metadata": {},
   "outputs": [
    {
     "name": "stdout",
     "output_type": "stream",
     "text": [
      "OS Operations:\n",
      "Current working directory: /home/fm-pc-lt-275/Documents/zPERSONAL-OUTSIDE OFFICE/Machine learning-Teaching/PythonTraining\n",
      "List directory contents: ['File_handling.ipynb', '.git', 'Python_modules_and_libraries.ipynb']\n",
      "\n"
     ]
    }
   ],
   "source": [
    "import os\n",
    "\n",
    "\n",
    "print(\"OS Operations:\")\n",
    "print(f\"Current working directory: {os.getcwd()}\")\n",
    "print(f\"List directory contents: {os.listdir()[:3]}\\n\")  # Show first 3 items\n"
   ]
  },
  {
   "cell_type": "code",
   "execution_count": 9,
   "metadata": {},
   "outputs": [
    {
     "name": "stdout",
     "output_type": "stream",
     "text": [
      "System Information:\n",
      "Python version: 3.10.12 (main, Jan 17 2025, 14...\n",
      "Platform: linux\n",
      "\n"
     ]
    }
   ],
   "source": [
    "import sys\n",
    "\n",
    "print(\"System Information:\")\n",
    "print(f\"Python version: {sys.version[:30]}...\")  # Show first 30 chars\n",
    "print(f\"Platform: {sys.platform}\\n\")\n"
   ]
  },
  {
   "cell_type": "code",
   "execution_count": 14,
   "metadata": {},
   "outputs": [
    {
     "name": "stdout",
     "output_type": "stream",
     "text": [
      "JSON file created\n",
      "\n"
     ]
    }
   ],
   "source": [
    "import json\n",
    "\n",
    "sample_dict = {\n",
    "    \"name\": \"Python Fundamentals\",\n",
    "    \"version\": 3.11,\n",
    "    \"is_awesome\": True,\n",
    "    \"features\": [\"Easy to learn\", \"Large ecosystem\", \"Great documentation\"]\n",
    "}\n",
    "with open('example_files/sample_json.json', 'w') as json_file:\n",
    "    json.dumps(sample_dict, indent=2)\n",
    "print(\"JSON file created\\n\")\n"
   ]
  },
  {
   "cell_type": "markdown",
   "metadata": {},
   "source": [
    "# Creating and Importing Custom Modules in Python\n",
    "\n",
    "## Custom Module Creation\n",
    "1. Create any `.py` file containing functions, classes, variables\n",
    "2. Save it to Python's path or project directory\n",
    "3. Import and use just like standard modules\n",
    "\n",
    "## Benefits\n",
    "- Organize related code in separate files\n",
    "- Reuse code across different projects \n",
    "- Maintain code more efficiently\n",
    "- Share functionality with other developers\n",
    "\n",
    "## Example Structure\n",
    "```text\n",
    "creating_custom_modules/\n",
    "    ├── my_program.py\n",
    "    └── custom_utils.py\n",
    "```\n",
    "\n",
    "This modular approach makes code:\n",
    "- More organized\n",
    "- Easier to maintain\n",
    "- Highly reusable\n",
    "- Simple to test\n",
    "- Better for collaboration\n",
    "\n",
    "Learn more in `creating_custom_modules/my_program.py`"
   ]
  }
 ],
 "metadata": {
  "kernelspec": {
   "display_name": "venv",
   "language": "python",
   "name": "python3"
  },
  "language_info": {
   "codemirror_mode": {
    "name": "ipython",
    "version": 3
   },
   "file_extension": ".py",
   "mimetype": "text/x-python",
   "name": "python",
   "nbconvert_exporter": "python",
   "pygments_lexer": "ipython3",
   "version": "3.10.12"
  }
 },
 "nbformat": 4,
 "nbformat_minor": 2
}
